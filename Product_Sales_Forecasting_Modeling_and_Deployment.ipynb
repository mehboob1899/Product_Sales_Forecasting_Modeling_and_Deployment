{
  "cells": [
    {
      "cell_type": "code",
      "execution_count": null,
      "metadata": {
        "colab": {
          "base_uri": "https://localhost:8080/",
          "height": 383
        },
        "id": "4NHfzeUIKEBR",
        "outputId": "bcd587e9-af92-4900-9e17-2b02b0d318e4"
      },
      "outputs": [
        {
          "ename": "ModuleNotFoundError",
          "evalue": "No module named 'xgboost'",
          "output_type": "error",
          "traceback": [
            "\u001b[1;31m---------------------------------------------------------------------------\u001b[0m",
            "\u001b[1;31mModuleNotFoundError\u001b[0m                       Traceback (most recent call last)",
            "Cell \u001b[1;32mIn[107], line 25\u001b[0m\n\u001b[0;32m     23\u001b[0m \u001b[38;5;28;01mfrom\u001b[39;00m \u001b[38;5;21;01msklearn\u001b[39;00m \u001b[38;5;28;01mimport\u001b[39;00m linear_model\n\u001b[0;32m     24\u001b[0m \u001b[38;5;28;01mfrom\u001b[39;00m \u001b[38;5;21;01msklearn\u001b[39;00m\u001b[38;5;21;01m.\u001b[39;00m\u001b[38;5;21;01mensemble\u001b[39;00m \u001b[38;5;28;01mimport\u001b[39;00m RandomForestClassifier\n\u001b[1;32m---> 25\u001b[0m \u001b[38;5;28;01mimport\u001b[39;00m \u001b[38;5;21;01mxgboost\u001b[39;00m \u001b[38;5;28;01mas\u001b[39;00m \u001b[38;5;21;01mxgb\u001b[39;00m\n\u001b[0;32m     26\u001b[0m \u001b[38;5;28;01mimport\u001b[39;00m \u001b[38;5;21;01mpickle\u001b[39;00m\n\u001b[0;32m     27\u001b[0m \u001b[38;5;28;01mimport\u001b[39;00m \u001b[38;5;21;01mjoblib\u001b[39;00m\n",
            "\u001b[1;31mModuleNotFoundError\u001b[0m: No module named 'xgboost'"
          ]
        }
      ],
      "source": [
        "import pandas as pd\n",
        "import numpy as np\n",
        "import seaborn as sns\n",
        "import matplotlib.pyplot as plt\n",
        "import warnings\n",
        "warnings.filterwarnings('ignore')\n",
        "import re\n",
        "from datetime import datetime, date\n",
        "pd.set_option('display.max_columns', None)\n",
        "from sklearn.feature_extraction.text import CountVectorizer\n",
        "from scipy.sparse import hstack\n",
        "from scipy.sparse import vstack\n",
        "from scipy import sparse\n",
        "from scipy.sparse import csr_matrix\n",
        "from sklearn.preprocessing import OneHotEncoder\n",
        "import pickle\n",
        "from sklearn import metrics\n",
        "from sklearn.metrics import make_scorer\n",
        "from sklearn.model_selection import GridSearchCV # Import from model_selection\n",
        "from sklearn.model_selection import RandomizedSearchCV # Import from model_selection\n",
        "from sklearn.preprocessing import LabelBinarizer,LabelEncoder\n",
        "from scipy.stats import randint as sp_randint\n",
        "from sklearn import linear_model\n",
        "from sklearn.ensemble import RandomForestClassifier\n",
        "import xgboost as xgb\n",
        "import pickle\n",
        "import joblib"
      ]
    },
    {
      "cell_type": "code",
      "execution_count": null,
      "metadata": {
        "colab": {
          "base_uri": "https://localhost:8080/",
          "height": 108
        },
        "id": "Djx2EsShKaM7",
        "outputId": "10179709-a4bd-4a31-b2e6-85105aef3cd4"
      },
      "outputs": [
        {
          "data": {
            "text/html": [
              "\n",
              "     <input type=\"file\" id=\"files-9b408775-af5c-4a50-8ad3-9b1ad06ee033\" name=\"files[]\" multiple disabled\n",
              "        style=\"border:none\" />\n",
              "     <output id=\"result-9b408775-af5c-4a50-8ad3-9b1ad06ee033\">\n",
              "      Upload widget is only available when the cell has been executed in the\n",
              "      current browser session. Please rerun this cell to enable.\n",
              "      </output>\n",
              "      <script>// Copyright 2017 Google LLC\n",
              "//\n",
              "// Licensed under the Apache License, Version 2.0 (the \"License\");\n",
              "// you may not use this file except in compliance with the License.\n",
              "// You may obtain a copy of the License at\n",
              "//\n",
              "//      http://www.apache.org/licenses/LICENSE-2.0\n",
              "//\n",
              "// Unless required by applicable law or agreed to in writing, software\n",
              "// distributed under the License is distributed on an \"AS IS\" BASIS,\n",
              "// WITHOUT WARRANTIES OR CONDITIONS OF ANY KIND, either express or implied.\n",
              "// See the License for the specific language governing permissions and\n",
              "// limitations under the License.\n",
              "\n",
              "/**\n",
              " * @fileoverview Helpers for google.colab Python module.\n",
              " */\n",
              "(function(scope) {\n",
              "function span(text, styleAttributes = {}) {\n",
              "  const element = document.createElement('span');\n",
              "  element.textContent = text;\n",
              "  for (const key of Object.keys(styleAttributes)) {\n",
              "    element.style[key] = styleAttributes[key];\n",
              "  }\n",
              "  return element;\n",
              "}\n",
              "\n",
              "// Max number of bytes which will be uploaded at a time.\n",
              "const MAX_PAYLOAD_SIZE = 100 * 1024;\n",
              "\n",
              "function _uploadFiles(inputId, outputId) {\n",
              "  const steps = uploadFilesStep(inputId, outputId);\n",
              "  const outputElement = document.getElementById(outputId);\n",
              "  // Cache steps on the outputElement to make it available for the next call\n",
              "  // to uploadFilesContinue from Python.\n",
              "  outputElement.steps = steps;\n",
              "\n",
              "  return _uploadFilesContinue(outputId);\n",
              "}\n",
              "\n",
              "// This is roughly an async generator (not supported in the browser yet),\n",
              "// where there are multiple asynchronous steps and the Python side is going\n",
              "// to poll for completion of each step.\n",
              "// This uses a Promise to block the python side on completion of each step,\n",
              "// then passes the result of the previous step as the input to the next step.\n",
              "function _uploadFilesContinue(outputId) {\n",
              "  const outputElement = document.getElementById(outputId);\n",
              "  const steps = outputElement.steps;\n",
              "\n",
              "  const next = steps.next(outputElement.lastPromiseValue);\n",
              "  return Promise.resolve(next.value.promise).then((value) => {\n",
              "    // Cache the last promise value to make it available to the next\n",
              "    // step of the generator.\n",
              "    outputElement.lastPromiseValue = value;\n",
              "    return next.value.response;\n",
              "  });\n",
              "}\n",
              "\n",
              "/**\n",
              " * Generator function which is called between each async step of the upload\n",
              " * process.\n",
              " * @param {string} inputId Element ID of the input file picker element.\n",
              " * @param {string} outputId Element ID of the output display.\n",
              " * @return {!Iterable<!Object>} Iterable of next steps.\n",
              " */\n",
              "function* uploadFilesStep(inputId, outputId) {\n",
              "  const inputElement = document.getElementById(inputId);\n",
              "  inputElement.disabled = false;\n",
              "\n",
              "  const outputElement = document.getElementById(outputId);\n",
              "  outputElement.innerHTML = '';\n",
              "\n",
              "  const pickedPromise = new Promise((resolve) => {\n",
              "    inputElement.addEventListener('change', (e) => {\n",
              "      resolve(e.target.files);\n",
              "    });\n",
              "  });\n",
              "\n",
              "  const cancel = document.createElement('button');\n",
              "  inputElement.parentElement.appendChild(cancel);\n",
              "  cancel.textContent = 'Cancel upload';\n",
              "  const cancelPromise = new Promise((resolve) => {\n",
              "    cancel.onclick = () => {\n",
              "      resolve(null);\n",
              "    };\n",
              "  });\n",
              "\n",
              "  // Wait for the user to pick the files.\n",
              "  const files = yield {\n",
              "    promise: Promise.race([pickedPromise, cancelPromise]),\n",
              "    response: {\n",
              "      action: 'starting',\n",
              "    }\n",
              "  };\n",
              "\n",
              "  cancel.remove();\n",
              "\n",
              "  // Disable the input element since further picks are not allowed.\n",
              "  inputElement.disabled = true;\n",
              "\n",
              "  if (!files) {\n",
              "    return {\n",
              "      response: {\n",
              "        action: 'complete',\n",
              "      }\n",
              "    };\n",
              "  }\n",
              "\n",
              "  for (const file of files) {\n",
              "    const li = document.createElement('li');\n",
              "    li.append(span(file.name, {fontWeight: 'bold'}));\n",
              "    li.append(span(\n",
              "        `(${file.type || 'n/a'}) - ${file.size} bytes, ` +\n",
              "        `last modified: ${\n",
              "            file.lastModifiedDate ? file.lastModifiedDate.toLocaleDateString() :\n",
              "                                    'n/a'} - `));\n",
              "    const percent = span('0% done');\n",
              "    li.appendChild(percent);\n",
              "\n",
              "    outputElement.appendChild(li);\n",
              "\n",
              "    const fileDataPromise = new Promise((resolve) => {\n",
              "      const reader = new FileReader();\n",
              "      reader.onload = (e) => {\n",
              "        resolve(e.target.result);\n",
              "      };\n",
              "      reader.readAsArrayBuffer(file);\n",
              "    });\n",
              "    // Wait for the data to be ready.\n",
              "    let fileData = yield {\n",
              "      promise: fileDataPromise,\n",
              "      response: {\n",
              "        action: 'continue',\n",
              "      }\n",
              "    };\n",
              "\n",
              "    // Use a chunked sending to avoid message size limits. See b/62115660.\n",
              "    let position = 0;\n",
              "    do {\n",
              "      const length = Math.min(fileData.byteLength - position, MAX_PAYLOAD_SIZE);\n",
              "      const chunk = new Uint8Array(fileData, position, length);\n",
              "      position += length;\n",
              "\n",
              "      const base64 = btoa(String.fromCharCode.apply(null, chunk));\n",
              "      yield {\n",
              "        response: {\n",
              "          action: 'append',\n",
              "          file: file.name,\n",
              "          data: base64,\n",
              "        },\n",
              "      };\n",
              "\n",
              "      let percentDone = fileData.byteLength === 0 ?\n",
              "          100 :\n",
              "          Math.round((position / fileData.byteLength) * 100);\n",
              "      percent.textContent = `${percentDone}% done`;\n",
              "\n",
              "    } while (position < fileData.byteLength);\n",
              "  }\n",
              "\n",
              "  // All done.\n",
              "  yield {\n",
              "    response: {\n",
              "      action: 'complete',\n",
              "    }\n",
              "  };\n",
              "}\n",
              "\n",
              "scope.google = scope.google || {};\n",
              "scope.google.colab = scope.google.colab || {};\n",
              "scope.google.colab._files = {\n",
              "  _uploadFiles,\n",
              "  _uploadFilesContinue,\n",
              "};\n",
              "})(self);\n",
              "</script> "
            ],
            "text/plain": [
              "<IPython.core.display.HTML object>"
            ]
          },
          "metadata": {},
          "output_type": "display_data"
        },
        {
          "name": "stdout",
          "output_type": "stream",
          "text": [
            "Saving TEST_FINAL.csv to TEST_FINAL.csv\n",
            "Saving Train.csv to Train.csv\n"
          ]
        }
      ],
      "source": [
        "# we'll be only using train, test data\n",
        "from google.colab import files\n",
        "\n",
        "# Upload file\n",
        "uploaded = files.upload()"
      ]
    },
    {
      "cell_type": "code",
      "execution_count": null,
      "metadata": {
        "id": "8nk4BW8oKh2K"
      },
      "outputs": [],
      "source": [
        "train_df=pd.read_csv(\"Train.csv\")\n",
        "test_df=pd.read_csv(\"TEST_FINAL.csv\")"
      ]
    },
    {
      "cell_type": "code",
      "execution_count": null,
      "metadata": {
        "id": "URckj4H6Qj47"
      },
      "outputs": [],
      "source": [
        "train_df = train_df.rename(columns={'Date': 'Sales_Date'})"
      ]
    },
    {
      "cell_type": "code",
      "execution_count": null,
      "metadata": {
        "id": "svELiQ4jZdcF"
      },
      "outputs": [],
      "source": [
        "test_df = test_df.rename(columns={'Date': 'Sales_Date'})"
      ]
    },
    {
      "cell_type": "code",
      "execution_count": null,
      "metadata": {
        "colab": {
          "base_uri": "https://localhost:8080/",
          "height": 275
        },
        "id": "Zy8q0UEVKh5v",
        "outputId": "84657871-443b-482e-f533-4dff6337f30b"
      },
      "outputs": [
        {
          "name": "stdout",
          "output_type": "stream",
          "text": [
            "(188340, 10)\n",
            "Index(['ID', 'Store_id', 'Store_Type', 'Location_Type', 'Region_Code',\n",
            "       'Sales_Date', 'Holiday', 'Discount', '#Order', 'Sales'],\n",
            "      dtype='object')\n"
          ]
        },
        {
          "data": {
            "text/html": [
              "<div>\n",
              "<style scoped>\n",
              "    .dataframe tbody tr th:only-of-type {\n",
              "        vertical-align: middle;\n",
              "    }\n",
              "\n",
              "    .dataframe tbody tr th {\n",
              "        vertical-align: top;\n",
              "    }\n",
              "\n",
              "    .dataframe thead th {\n",
              "        text-align: right;\n",
              "    }\n",
              "</style>\n",
              "<table border=\"1\" class=\"dataframe\">\n",
              "  <thead>\n",
              "    <tr style=\"text-align: right;\">\n",
              "      <th></th>\n",
              "      <th>ID</th>\n",
              "      <th>Store_id</th>\n",
              "      <th>Store_Type</th>\n",
              "      <th>Location_Type</th>\n",
              "      <th>Region_Code</th>\n",
              "      <th>Sales_Date</th>\n",
              "      <th>Holiday</th>\n",
              "      <th>Discount</th>\n",
              "      <th>#Order</th>\n",
              "      <th>Sales</th>\n",
              "    </tr>\n",
              "  </thead>\n",
              "  <tbody>\n",
              "    <tr>\n",
              "      <th>0</th>\n",
              "      <td>T1000001</td>\n",
              "      <td>1</td>\n",
              "      <td>S1</td>\n",
              "      <td>L3</td>\n",
              "      <td>R1</td>\n",
              "      <td>2018-01-01</td>\n",
              "      <td>1</td>\n",
              "      <td>Yes</td>\n",
              "      <td>9</td>\n",
              "      <td>7011.84</td>\n",
              "    </tr>\n",
              "    <tr>\n",
              "      <th>1</th>\n",
              "      <td>T1000002</td>\n",
              "      <td>253</td>\n",
              "      <td>S4</td>\n",
              "      <td>L2</td>\n",
              "      <td>R1</td>\n",
              "      <td>2018-01-01</td>\n",
              "      <td>1</td>\n",
              "      <td>Yes</td>\n",
              "      <td>60</td>\n",
              "      <td>51789.12</td>\n",
              "    </tr>\n",
              "    <tr>\n",
              "      <th>2</th>\n",
              "      <td>T1000003</td>\n",
              "      <td>252</td>\n",
              "      <td>S3</td>\n",
              "      <td>L2</td>\n",
              "      <td>R1</td>\n",
              "      <td>2018-01-01</td>\n",
              "      <td>1</td>\n",
              "      <td>Yes</td>\n",
              "      <td>42</td>\n",
              "      <td>36868.20</td>\n",
              "    </tr>\n",
              "    <tr>\n",
              "      <th>3</th>\n",
              "      <td>T1000004</td>\n",
              "      <td>251</td>\n",
              "      <td>S2</td>\n",
              "      <td>L3</td>\n",
              "      <td>R1</td>\n",
              "      <td>2018-01-01</td>\n",
              "      <td>1</td>\n",
              "      <td>Yes</td>\n",
              "      <td>23</td>\n",
              "      <td>19715.16</td>\n",
              "    </tr>\n",
              "    <tr>\n",
              "      <th>4</th>\n",
              "      <td>T1000005</td>\n",
              "      <td>250</td>\n",
              "      <td>S2</td>\n",
              "      <td>L3</td>\n",
              "      <td>R4</td>\n",
              "      <td>2018-01-01</td>\n",
              "      <td>1</td>\n",
              "      <td>Yes</td>\n",
              "      <td>62</td>\n",
              "      <td>45614.52</td>\n",
              "    </tr>\n",
              "  </tbody>\n",
              "</table>\n",
              "</div>"
            ],
            "text/plain": [
              "         ID  Store_id Store_Type Location_Type Region_Code  Sales_Date  \\\n",
              "0  T1000001         1         S1            L3          R1  2018-01-01   \n",
              "1  T1000002       253         S4            L2          R1  2018-01-01   \n",
              "2  T1000003       252         S3            L2          R1  2018-01-01   \n",
              "3  T1000004       251         S2            L3          R1  2018-01-01   \n",
              "4  T1000005       250         S2            L3          R4  2018-01-01   \n",
              "\n",
              "   Holiday Discount  #Order     Sales  \n",
              "0        1      Yes       9   7011.84  \n",
              "1        1      Yes      60  51789.12  \n",
              "2        1      Yes      42  36868.20  \n",
              "3        1      Yes      23  19715.16  \n",
              "4        1      Yes      62  45614.52  "
            ]
          },
          "execution_count": 114,
          "metadata": {},
          "output_type": "execute_result"
        }
      ],
      "source": [
        "print(train_df.shape)\n",
        "\n",
        "print(train_df.columns)\n",
        "\n",
        "train_df.head()"
      ]
    },
    {
      "cell_type": "code",
      "execution_count": null,
      "metadata": {
        "id": "s7v3HpURQ4BY"
      },
      "outputs": [],
      "source": [
        "test_df = test_df.rename(columns={'Date': 'Sales_Date'})"
      ]
    },
    {
      "cell_type": "code",
      "execution_count": null,
      "metadata": {
        "colab": {
          "base_uri": "https://localhost:8080/",
          "height": 293
        },
        "id": "1d91leiLKiBq",
        "outputId": "abea6fe5-af1f-4bd4-d8b9-472a6a7dc8bd"
      },
      "outputs": [
        {
          "name": "stdout",
          "output_type": "stream",
          "text": [
            "(22265, 8)\n",
            "\n",
            "Columns: Index(['ID', 'Store_id', 'Store_Type', 'Location_Type', 'Region_Code',\n",
            "       'Sales_Date', 'Holiday', 'Discount'],\n",
            "      dtype='object')\n"
          ]
        },
        {
          "data": {
            "text/html": [
              "<div>\n",
              "<style scoped>\n",
              "    .dataframe tbody tr th:only-of-type {\n",
              "        vertical-align: middle;\n",
              "    }\n",
              "\n",
              "    .dataframe tbody tr th {\n",
              "        vertical-align: top;\n",
              "    }\n",
              "\n",
              "    .dataframe thead th {\n",
              "        text-align: right;\n",
              "    }\n",
              "</style>\n",
              "<table border=\"1\" class=\"dataframe\">\n",
              "  <thead>\n",
              "    <tr style=\"text-align: right;\">\n",
              "      <th></th>\n",
              "      <th>ID</th>\n",
              "      <th>Store_id</th>\n",
              "      <th>Store_Type</th>\n",
              "      <th>Location_Type</th>\n",
              "      <th>Region_Code</th>\n",
              "      <th>Sales_Date</th>\n",
              "      <th>Holiday</th>\n",
              "      <th>Discount</th>\n",
              "    </tr>\n",
              "  </thead>\n",
              "  <tbody>\n",
              "    <tr>\n",
              "      <th>0</th>\n",
              "      <td>T1188341</td>\n",
              "      <td>171</td>\n",
              "      <td>S4</td>\n",
              "      <td>L2</td>\n",
              "      <td>R3</td>\n",
              "      <td>2019-06-01</td>\n",
              "      <td>0</td>\n",
              "      <td>No</td>\n",
              "    </tr>\n",
              "    <tr>\n",
              "      <th>1</th>\n",
              "      <td>T1188342</td>\n",
              "      <td>172</td>\n",
              "      <td>S1</td>\n",
              "      <td>L1</td>\n",
              "      <td>R1</td>\n",
              "      <td>2019-06-01</td>\n",
              "      <td>0</td>\n",
              "      <td>No</td>\n",
              "    </tr>\n",
              "    <tr>\n",
              "      <th>2</th>\n",
              "      <td>T1188343</td>\n",
              "      <td>173</td>\n",
              "      <td>S4</td>\n",
              "      <td>L2</td>\n",
              "      <td>R1</td>\n",
              "      <td>2019-06-01</td>\n",
              "      <td>0</td>\n",
              "      <td>No</td>\n",
              "    </tr>\n",
              "    <tr>\n",
              "      <th>3</th>\n",
              "      <td>T1188344</td>\n",
              "      <td>174</td>\n",
              "      <td>S1</td>\n",
              "      <td>L1</td>\n",
              "      <td>R4</td>\n",
              "      <td>2019-06-01</td>\n",
              "      <td>0</td>\n",
              "      <td>No</td>\n",
              "    </tr>\n",
              "    <tr>\n",
              "      <th>4</th>\n",
              "      <td>T1188345</td>\n",
              "      <td>170</td>\n",
              "      <td>S1</td>\n",
              "      <td>L1</td>\n",
              "      <td>R2</td>\n",
              "      <td>2019-06-01</td>\n",
              "      <td>0</td>\n",
              "      <td>No</td>\n",
              "    </tr>\n",
              "  </tbody>\n",
              "</table>\n",
              "</div>"
            ],
            "text/plain": [
              "         ID  Store_id Store_Type Location_Type Region_Code  Sales_Date  \\\n",
              "0  T1188341       171         S4            L2          R3  2019-06-01   \n",
              "1  T1188342       172         S1            L1          R1  2019-06-01   \n",
              "2  T1188343       173         S4            L2          R1  2019-06-01   \n",
              "3  T1188344       174         S1            L1          R4  2019-06-01   \n",
              "4  T1188345       170         S1            L1          R2  2019-06-01   \n",
              "\n",
              "   Holiday Discount  \n",
              "0        0       No  \n",
              "1        0       No  \n",
              "2        0       No  \n",
              "3        0       No  \n",
              "4        0       No  "
            ]
          },
          "execution_count": 116,
          "metadata": {},
          "output_type": "execute_result"
        }
      ],
      "source": [
        "print(test_df.shape)\n",
        "\n",
        "print(\"\\nColumns:\",test_df.columns)\n",
        "\n",
        "test_df.head()"
      ]
    },
    {
      "cell_type": "code",
      "execution_count": null,
      "metadata": {
        "colab": {
          "base_uri": "https://localhost:8080/"
        },
        "id": "0YIOBLakKiE3",
        "outputId": "a2cbdf92-40a5-4e2a-8d67-9e10f13f3599"
      },
      "outputs": [
        {
          "data": {
            "text/plain": [
              "ID               0.0\n",
              "Store_id         0.0\n",
              "Store_Type       0.0\n",
              "Location_Type    0.0\n",
              "Region_Code      0.0\n",
              "Sales_Date       0.0\n",
              "Holiday          0.0\n",
              "Discount         0.0\n",
              "dtype: float64"
            ]
          },
          "execution_count": 117,
          "metadata": {},
          "output_type": "execute_result"
        }
      ],
      "source": [
        "#Checking null values\n",
        "test_df.isnull().sum()/ len(test_df)"
      ]
    },
    {
      "cell_type": "code",
      "execution_count": null,
      "metadata": {
        "colab": {
          "base_uri": "https://localhost:8080/"
        },
        "id": "Fu_ovu6oKiIR",
        "outputId": "71aef2aa-d1ca-430b-9963-0584167f92e4"
      },
      "outputs": [
        {
          "name": "stdout",
          "output_type": "stream",
          "text": [
            "(22265, 8)\n",
            "(22265, 8)\n"
          ]
        }
      ],
      "source": [
        "# Dropping rows where user id is missing\n",
        "print(test_df.shape)\n",
        "\n",
        "test_df = test_df.dropna(subset = ['ID'])\n",
        "\n",
        "print(test_df.shape)"
      ]
    },
    {
      "cell_type": "code",
      "execution_count": null,
      "metadata": {
        "colab": {
          "base_uri": "https://localhost:8080/"
        },
        "id": "ZcuB6wvEPVjU",
        "outputId": "f64dad42-d113-4754-9335-c097ef35d893"
      },
      "outputs": [
        {
          "data": {
            "text/plain": [
              "22265"
            ]
          },
          "execution_count": 119,
          "metadata": {},
          "output_type": "execute_result"
        }
      ],
      "source": [
        "test_df['ID'].nunique()"
      ]
    },
    {
      "cell_type": "code",
      "execution_count": null,
      "metadata": {
        "colab": {
          "base_uri": "https://localhost:8080/",
          "height": 223
        },
        "id": "ZCTCv23GPc-a",
        "outputId": "5722897d-3922-4477-cca7-f15750cd39d3"
      },
      "outputs": [
        {
          "name": "stdout",
          "output_type": "stream",
          "text": [
            "(22265, 8)\n"
          ]
        },
        {
          "data": {
            "text/html": [
              "<div>\n",
              "<style scoped>\n",
              "    .dataframe tbody tr th:only-of-type {\n",
              "        vertical-align: middle;\n",
              "    }\n",
              "\n",
              "    .dataframe tbody tr th {\n",
              "        vertical-align: top;\n",
              "    }\n",
              "\n",
              "    .dataframe thead th {\n",
              "        text-align: right;\n",
              "    }\n",
              "</style>\n",
              "<table border=\"1\" class=\"dataframe\">\n",
              "  <thead>\n",
              "    <tr style=\"text-align: right;\">\n",
              "      <th></th>\n",
              "      <th>ID</th>\n",
              "      <th>Store_id</th>\n",
              "      <th>Store_Type</th>\n",
              "      <th>Location_Type</th>\n",
              "      <th>Region_Code</th>\n",
              "      <th>Sales_Date</th>\n",
              "      <th>Holiday</th>\n",
              "      <th>Discount</th>\n",
              "    </tr>\n",
              "  </thead>\n",
              "  <tbody>\n",
              "    <tr>\n",
              "      <th>0</th>\n",
              "      <td>T1188341</td>\n",
              "      <td>[171]</td>\n",
              "      <td>[S4]</td>\n",
              "      <td>[L2]</td>\n",
              "      <td>[R3]</td>\n",
              "      <td>[2019-06-01]</td>\n",
              "      <td>[0]</td>\n",
              "      <td>[No]</td>\n",
              "    </tr>\n",
              "    <tr>\n",
              "      <th>1</th>\n",
              "      <td>T1188342</td>\n",
              "      <td>[172]</td>\n",
              "      <td>[S1]</td>\n",
              "      <td>[L1]</td>\n",
              "      <td>[R1]</td>\n",
              "      <td>[2019-06-01]</td>\n",
              "      <td>[0]</td>\n",
              "      <td>[No]</td>\n",
              "    </tr>\n",
              "    <tr>\n",
              "      <th>2</th>\n",
              "      <td>T1188343</td>\n",
              "      <td>[173]</td>\n",
              "      <td>[S4]</td>\n",
              "      <td>[L2]</td>\n",
              "      <td>[R1]</td>\n",
              "      <td>[2019-06-01]</td>\n",
              "      <td>[0]</td>\n",
              "      <td>[No]</td>\n",
              "    </tr>\n",
              "    <tr>\n",
              "      <th>3</th>\n",
              "      <td>T1188344</td>\n",
              "      <td>[174]</td>\n",
              "      <td>[S1]</td>\n",
              "      <td>[L1]</td>\n",
              "      <td>[R4]</td>\n",
              "      <td>[2019-06-01]</td>\n",
              "      <td>[0]</td>\n",
              "      <td>[No]</td>\n",
              "    </tr>\n",
              "    <tr>\n",
              "      <th>4</th>\n",
              "      <td>T1188345</td>\n",
              "      <td>[170]</td>\n",
              "      <td>[S1]</td>\n",
              "      <td>[L1]</td>\n",
              "      <td>[R2]</td>\n",
              "      <td>[2019-06-01]</td>\n",
              "      <td>[0]</td>\n",
              "      <td>[No]</td>\n",
              "    </tr>\n",
              "  </tbody>\n",
              "</table>\n",
              "</div>"
            ],
            "text/plain": [
              "         ID Store_id Store_Type Location_Type Region_Code    Sales_Date  \\\n",
              "0  T1188341    [171]       [S4]          [L2]        [R3]  [2019-06-01]   \n",
              "1  T1188342    [172]       [S1]          [L1]        [R1]  [2019-06-01]   \n",
              "2  T1188343    [173]       [S4]          [L2]        [R1]  [2019-06-01]   \n",
              "3  T1188344    [174]       [S1]          [L1]        [R4]  [2019-06-01]   \n",
              "4  T1188345    [170]       [S1]          [L1]        [R2]  [2019-06-01]   \n",
              "\n",
              "  Holiday Discount  \n",
              "0     [0]     [No]  \n",
              "1     [0]     [No]  \n",
              "2     [0]     [No]  \n",
              "3     [0]     [No]  \n",
              "4     [0]     [No]  "
            ]
          },
          "execution_count": 120,
          "metadata": {},
          "output_type": "execute_result"
        }
      ],
      "source": [
        "test_df_concat = test_df.groupby('ID', as_index=False).agg(lambda x: x.tolist())\n",
        "\n",
        "print(test_df_concat.shape)\n",
        "\n",
        "test_df_concat.head()"
      ]
    },
    {
      "cell_type": "code",
      "execution_count": null,
      "metadata": {
        "id": "cqtRs0LLPdB2"
      },
      "outputs": [],
      "source": [
        "# Function to convert list into strings\n",
        "\n",
        "def list_to_str_store(Store_Type):\n",
        "\n",
        "    \"\"\"\n",
        "    Function to convert list into strings\n",
        "\n",
        "    parameters: Store_Type\n",
        "\n",
        "    returns : Store_Type\n",
        "\n",
        "    \"\"\"\n",
        "    action = [ str(i) for i in Store_Type ]\n",
        "\n",
        "    action = [ re.sub('nan','',i) for i in Store_Type ]\n",
        "\n",
        "    action = ','.join(Store_Type)\n",
        "\n",
        "    return Store_Type"
      ]
    },
    {
      "cell_type": "code",
      "execution_count": null,
      "metadata": {
        "colab": {
          "base_uri": "https://localhost:8080/"
        },
        "id": "kqmWTVdsRgKa",
        "outputId": "934dd4cd-cb08-4f9b-9df1-a2e199862479"
      },
      "outputs": [
        {
          "data": {
            "text/plain": [
              "0    [S4]\n",
              "1    [S1]\n",
              "2    [S4]\n",
              "3    [S1]\n",
              "4    [S1]\n",
              "Name: Store_Type, dtype: object"
            ]
          },
          "execution_count": 122,
          "metadata": {},
          "output_type": "execute_result"
        }
      ],
      "source": [
        "test_df_concat['Store_Type'] = test_df_concat['Store_Type'].apply(list_to_str_store)\n",
        "\n",
        "test_df_concat['Store_Type'].head()"
      ]
    },
    {
      "cell_type": "code",
      "execution_count": null,
      "metadata": {
        "colab": {
          "base_uri": "https://localhost:8080/"
        },
        "id": "5IuOqFy2SEfQ",
        "outputId": "57781793-4ae5-4d21-b5da-24c0db25b182"
      },
      "outputs": [
        {
          "data": {
            "text/plain": [
              "0    [L2]\n",
              "1    [L1]\n",
              "2    [L2]\n",
              "3    [L1]\n",
              "4    [L1]\n",
              "Name: Location_Type, dtype: object"
            ]
          },
          "execution_count": 123,
          "metadata": {},
          "output_type": "execute_result"
        }
      ],
      "source": [
        "test_df_concat[\"Location_Type\"] = test_df_concat[\"Location_Type\"].apply(list_to_str_store)\n",
        "\n",
        "test_df_concat[\"Location_Type\"].head()"
      ]
    },
    {
      "cell_type": "code",
      "execution_count": null,
      "metadata": {
        "id": "zPw2o5OdSxwy"
      },
      "outputs": [],
      "source": [
        "# Function to convert list into strings\n",
        "\n",
        "def list_to_str_Discount(Discount):\n",
        "\n",
        "    \"\"\"\n",
        "    Function to convert list into strings\n",
        "\n",
        "    parameters: Discount\n",
        "\n",
        "    returns : Discount\n",
        "\n",
        "    \"\"\"\n",
        "\n",
        "    Discount = [ str(i) for i in Discount ]\n",
        "\n",
        "    Discount = [ re.sub('nan','',i) for i in Discount ]\n",
        "\n",
        "    Discount = ','.join(set(Discount)) #keeping only unique devices that the user has used\n",
        "\n",
        "    return Discount"
      ]
    },
    {
      "cell_type": "code",
      "execution_count": null,
      "metadata": {
        "colab": {
          "base_uri": "https://localhost:8080/"
        },
        "id": "7Me7IYDhTAWm",
        "outputId": "a81c6378-2bd6-436e-da7a-4e3fe3d74a02"
      },
      "outputs": [
        {
          "data": {
            "text/plain": [
              "0    No\n",
              "1    No\n",
              "2    No\n",
              "3    No\n",
              "4    No\n",
              "Name: Discount, dtype: object"
            ]
          },
          "execution_count": 125,
          "metadata": {},
          "output_type": "execute_result"
        }
      ],
      "source": [
        "test_df_concat['Discount'] = test_df_concat['Discount'].apply(list_to_str_Discount)\n",
        "\n",
        "test_df_concat['Discount'].head()"
      ]
    },
    {
      "cell_type": "code",
      "execution_count": null,
      "metadata": {
        "id": "UdQU0PIopIMP"
      },
      "outputs": [],
      "source": [
        "# correcting the datatypes\n",
        "train_df['Sales_Date'] = pd.to_datetime(train_df['Sales_Date'])\n",
        "train_df['#Order']= train_df['#Order'].astype('Int64')"
      ]
    },
    {
      "cell_type": "code",
      "execution_count": null,
      "metadata": {
        "id": "XFdGktiLp6HO"
      },
      "outputs": [],
      "source": [
        "train_df['date_Sale_day'] = train_df.Sales_Date.dt.weekday\n",
        "\n",
        "train_df['date_Sale_month'] = train_df.Sales_Date.dt.month\n",
        "\n",
        "train_df['date_Sale_year'] = train_df.Sales_Date.dt.year\n"
      ]
    },
    {
      "cell_type": "code",
      "execution_count": null,
      "metadata": {
        "id": "lCmLAFuFgvV_"
      },
      "outputs": [],
      "source": [
        "# Convert 'Sales_Date' to datetime objects\n",
        "test_df['Sales_Date'] = pd.to_datetime(test_df['Sales_Date'])\n",
        "\n",
        "# Now you can extract weekday, month, and year\n",
        "test_df['date_Sale_day'] = test_df.Sales_Date.dt.weekday\n",
        "test_df['date_Sale_month'] = test_df.Sales_Date.dt.month\n",
        "test_df['date_Sale_year'] = test_df.Sales_Date.dt.year"
      ]
    },
    {
      "cell_type": "code",
      "execution_count": null,
      "metadata": {
        "id": "HpHqL5JssDQT"
      },
      "outputs": [],
      "source": [
        "def order_median(Order): # Add Order as an argument\n",
        "\n",
        "    \"\"\"\n",
        "    Function to replace order outliers with median order\n",
        "\n",
        "    parameters: order\n",
        "\n",
        "    returns : order\n",
        "\n",
        "\"\"\"\n",
        "\n",
        "    if Order < 10 or Order > 100:\n",
        "\n",
        "        return 20\n",
        "\n",
        "    else:\n",
        "\n",
        "        return Order # Return the Order value"
      ]
    },
    {
      "cell_type": "code",
      "execution_count": null,
      "metadata": {
        "id": "19Y2IyM6sHAz"
      },
      "outputs": [],
      "source": [
        "train_df['#Order'] = train_df['#Order'].fillna(-1)\n",
        "\n",
        "train_df['#Order'] = train_df['#Order'].apply(order_median)"
      ]
    },
    {
      "cell_type": "code",
      "execution_count": null,
      "metadata": {
        "id": "906eqYyxsLzP"
      },
      "outputs": [],
      "source": [
        "#creating age buckets\n",
        "\n",
        "bins = [i for i in range(15,106,5)]\n",
        "\n",
        "def order_interv(Order):\n",
        "\n",
        "    \"\"\"\n",
        "\n",
        "    Function takes age and returns interval.\n",
        "\n",
        "    parameters:  order\n",
        "\n",
        "    returns: order interval\n",
        "\n",
        "    \"\"\"\n",
        "\n",
        "    for i in range(len(bins)):\n",
        "\n",
        "        if Order < bins[i]:\n",
        "\n",
        "            return i"
      ]
    },
    {
      "cell_type": "code",
      "execution_count": null,
      "metadata": {
        "id": "T6RN1W7PP31X"
      },
      "outputs": [],
      "source": [
        "train_df['order_interv'] = train_df['#Order'].apply(lambda x: order_interv(x))"
      ]
    },
    {
      "cell_type": "code",
      "execution_count": null,
      "metadata": {
        "id": "U-UXsJhLQD97"
      },
      "outputs": [],
      "source": [
        "# mode replacement for first_affiliate_tracked\n",
        "\n",
        "train_df.Holiday.fillna('untracked',inplace = True)\n",
        "test_df.Holiday.fillna('untracked',inplace = True)"
      ]
    },
    {
      "cell_type": "code",
      "execution_count": null,
      "metadata": {
        "id": "OsSQAUn2QzXE"
      },
      "outputs": [],
      "source": [
        "train_df.Location_Type.replace('-unknown-','OTHER', inplace=True)\n",
        "test_df.Location_Type.replace('-unknown-','OTHER', inplace=True)"
      ]
    },
    {
      "cell_type": "code",
      "execution_count": null,
      "metadata": {
        "id": "jZONouNxQzgG"
      },
      "outputs": [],
      "source": [
        "#getting labels\n",
        "\n",
        "y = train_df['Region_Code']"
      ]
    },
    {
      "cell_type": "code",
      "execution_count": null,
      "metadata": {
        "colab": {
          "base_uri": "https://localhost:8080/"
        },
        "id": "Io_aFohYRfQQ",
        "outputId": "c5d5fbb8-8621-4025-b273-714b789d9af0"
      },
      "outputs": [
        {
          "data": {
            "text/plain": [
              "ID                 0\n",
              "Store_id           0\n",
              "Store_Type         0\n",
              "Location_Type      0\n",
              "Region_Code        0\n",
              "Sales_Date         0\n",
              "Holiday            0\n",
              "Discount           0\n",
              "#Order             0\n",
              "Sales              0\n",
              "date_Sale_day      0\n",
              "date_Sale_month    0\n",
              "date_Sale_year     0\n",
              "order_interv       0\n",
              "dtype: int64"
            ]
          },
          "execution_count": 136,
          "metadata": {},
          "output_type": "execute_result"
        }
      ],
      "source": [
        "#Checking null values\n",
        "train_df.isnull().sum()"
      ]
    },
    {
      "cell_type": "code",
      "execution_count": null,
      "metadata": {
        "colab": {
          "base_uri": "https://localhost:8080/"
        },
        "id": "o6_dLrQJR1dE",
        "outputId": "599ae208-ec6f-4e0b-971f-7b2056ac63e3"
      },
      "outputs": [
        {
          "data": {
            "text/plain": [
              "ID                 0\n",
              "Store_id           0\n",
              "Store_Type         0\n",
              "Location_Type      0\n",
              "Region_Code        0\n",
              "Sales_Date         0\n",
              "Holiday            0\n",
              "Discount           0\n",
              "date_Sale_day      0\n",
              "date_Sale_month    0\n",
              "date_Sale_year     0\n",
              "dtype: int64"
            ]
          },
          "execution_count": 137,
          "metadata": {},
          "output_type": "execute_result"
        }
      ],
      "source": [
        "#Checking null values in test data\n",
        "test_df.isnull().sum()"
      ]
    },
    {
      "cell_type": "code",
      "execution_count": null,
      "metadata": {
        "colab": {
          "base_uri": "https://localhost:8080/"
        },
        "id": "63Ks42HUV1i_",
        "outputId": "8bbedb42-2ac2-4fca-d000-a5b8893fd35a"
      },
      "outputs": [
        {
          "name": "stdout",
          "output_type": "stream",
          "text": [
            "(188340, 14) (188340,)\n",
            "(22265, 11)\n"
          ]
        }
      ],
      "source": [
        "print(train_df.shape,y.shape)\n",
        "print(test_df.shape)"
      ]
    },
    {
      "cell_type": "code",
      "execution_count": null,
      "metadata": {
        "colab": {
          "base_uri": "https://localhost:8080/"
        },
        "id": "GxHt-ZBl_129",
        "outputId": "1020fe5f-4076-468c-cee6-9d53a442d311"
      },
      "outputs": [
        {
          "name": "stdout",
          "output_type": "stream",
          "text": [
            "After vectorizations\n",
            "(188340, 4)\n",
            "(22265, 4)\n"
          ]
        }
      ],
      "source": [
        "#Count vectorizer for action feature\n",
        "\n",
        "# Create Count Vectorizer\n",
        "count_vec_action = CountVectorizer(tokenizer=lambda x: x.split(','))\n",
        "\n",
        "#building vocabulary using train data\n",
        "count_vec_action.fit(train_df['Store_Type'].values)\n",
        "\n",
        "#vectorization on train and test data\n",
        "train_df_action_count_vec=count_vec_action.transform(train_df['Store_Type'].values)\n",
        "test_df_action_count_vec=count_vec_action.transform(test_df['Store_Type'].values)\n",
        "\n",
        "print(\"After vectorizations\")\n",
        "print(train_df_action_count_vec.shape)\n",
        "print(test_df_action_count_vec.shape)"
      ]
    },
    {
      "cell_type": "code",
      "execution_count": null,
      "metadata": {
        "colab": {
          "base_uri": "https://localhost:8080/"
        },
        "id": "5aL--MAC_4Zo",
        "outputId": "04f3d901-bdd0-467d-c9f2-bd3711f09599"
      },
      "outputs": [
        {
          "data": {
            "text/plain": [
              "array(['s1', 's2', 's3', 's4'], dtype=object)"
            ]
          },
          "execution_count": 140,
          "metadata": {},
          "output_type": "execute_result"
        }
      ],
      "source": [
        "#looking at the features\n",
        "action_feat=count_vec_action.get_feature_names_out()\n",
        "\n",
        "action_feat"
      ]
    },
    {
      "cell_type": "code",
      "execution_count": null,
      "metadata": {
        "colab": {
          "base_uri": "https://localhost:8080/"
        },
        "id": "wWUfqIP5_4cu",
        "outputId": "ba6cf0c0-5f86-4759-b410-30612b319e3b"
      },
      "outputs": [
        {
          "name": "stdout",
          "output_type": "stream",
          "text": [
            "(188340, 4)\n",
            "(22265, 4)\n"
          ]
        }
      ],
      "source": [
        "train_df_action_count_vec_dense=train_df_action_count_vec.toarray() #converting to dense matrix\n",
        "\n",
        "test_df_action_count_vec_dense=test_df_action_count_vec.toarray() #converting to dense matrix\n",
        "\n",
        "train_df_action_count_vec_df = pd.DataFrame(train_df_action_count_vec_dense, columns=action_feat) #converting it to a df for merging\n",
        "\n",
        "test_df_action_count_vec_df = pd.DataFrame(test_df_action_count_vec_dense, columns=action_feat) #converting it to a df for merging\n",
        "\n",
        "print(train_df_action_count_vec_df.shape)\n",
        "\n",
        "print(test_df_action_count_vec_df.shape)"
      ]
    },
    {
      "cell_type": "code",
      "execution_count": null,
      "metadata": {
        "colab": {
          "base_uri": "https://localhost:8080/"
        },
        "id": "0v4KsUnT_4ft",
        "outputId": "dc3dfb03-5687-4be8-d832-6c30e7f6fbaa"
      },
      "outputs": [
        {
          "name": "stdout",
          "output_type": "stream",
          "text": [
            "After vectorizations\n",
            "(188340, 5)\n",
            "(22265, 5)\n"
          ]
        }
      ],
      "source": [
        "#Count vectorizer for action type feature\n",
        "\n",
        "# Create Count Vectorizer\n",
        "count_vec_action_type = CountVectorizer(tokenizer=lambda x: x.split(','))\n",
        "\n",
        "#building vocabulary using train data\n",
        "count_vec_action_type.fit(train_df['Location_Type'].values)\n",
        "\n",
        "#vectorization on train and test data\n",
        "train_df_action_type_count_vec=count_vec_action_type.transform(train_df['Location_Type'].values)\n",
        "test_df_action_type_count_vec=count_vec_action_type.transform(test_df['Location_Type'].values)\n",
        "\n",
        "print(\"After vectorizations\")\n",
        "print(train_df_action_type_count_vec.shape)\n",
        "print(test_df_action_type_count_vec.shape)"
      ]
    },
    {
      "cell_type": "code",
      "execution_count": null,
      "metadata": {
        "colab": {
          "base_uri": "https://localhost:8080/"
        },
        "id": "toHQU7Te_4mS",
        "outputId": "39cc9dc6-189c-4a57-aab1-ffa728a5bf09"
      },
      "outputs": [
        {
          "data": {
            "text/plain": [
              "array(['l1', 'l2', 'l3', 'l4', 'l5'], dtype=object)"
            ]
          },
          "execution_count": 143,
          "metadata": {},
          "output_type": "execute_result"
        }
      ],
      "source": [
        "#looking at the features\n",
        "action_type_feat=count_vec_action_type.get_feature_names_out()\n",
        "\n",
        "action_type_feat"
      ]
    },
    {
      "cell_type": "code",
      "execution_count": null,
      "metadata": {
        "colab": {
          "base_uri": "https://localhost:8080/"
        },
        "id": "PtplR3bt_4po",
        "outputId": "e6bea20c-94be-4685-8509-256acca1816e"
      },
      "outputs": [
        {
          "name": "stdout",
          "output_type": "stream",
          "text": [
            "(188340, 5)\n",
            "(22265, 5)\n"
          ]
        }
      ],
      "source": [
        "train_df_action_type_count_vec_dense=train_df_action_type_count_vec.toarray() #converting to dense matrix\n",
        "\n",
        "test_df_action_type_count_vec_dense=test_df_action_type_count_vec.toarray() #converting to dense matrix\n",
        "\n",
        "train_df_action_type_count_vec_df = pd.DataFrame(train_df_action_type_count_vec_dense, columns=action_type_feat) #converting it to a df for merging\n",
        "\n",
        "test_df_action_type_count_vec_df = pd.DataFrame(test_df_action_type_count_vec_dense, columns=action_type_feat) #converting it to a df for merging\n",
        "\n",
        "print(train_df_action_type_count_vec_df.shape)\n",
        "\n",
        "print(test_df_action_type_count_vec_df.shape)"
      ]
    },
    {
      "cell_type": "code",
      "execution_count": null,
      "metadata": {
        "colab": {
          "base_uri": "https://localhost:8080/"
        },
        "id": "udhgQzjMBtlP",
        "outputId": "66f7774e-0bc1-4bca-b1b7-1da9b3ac91dd"
      },
      "outputs": [
        {
          "name": "stdout",
          "output_type": "stream",
          "text": [
            "After vectorizations\n",
            "(188340, 2)\n",
            "(22265, 2)\n"
          ]
        }
      ],
      "source": [
        "#Count vectorizer for discount feature\n",
        "\n",
        "# Create Count Vectorizer\n",
        "count_vec_action_detail = CountVectorizer(tokenizer=lambda x: x.split(','))\n",
        "\n",
        "#building vocabulary using train data\n",
        "count_vec_action_detail.fit(train_df['Discount'].values)\n",
        "\n",
        "#vectorization on train and test data\n",
        "train_df_action_detail_count_vec=count_vec_action_detail.transform(train_df['Discount'].values)\n",
        "test_df_action_detail_count_vec=count_vec_action_detail.transform(test_df['Discount'].values)\n",
        "\n",
        "print(\"After vectorizations\")\n",
        "print(train_df_action_detail_count_vec.shape)\n",
        "print(test_df_action_detail_count_vec.shape)"
      ]
    },
    {
      "cell_type": "code",
      "execution_count": null,
      "metadata": {
        "colab": {
          "base_uri": "https://localhost:8080/"
        },
        "id": "y7gzba6PBtqe",
        "outputId": "58d708da-aff2-413a-defc-aeec58e194a0"
      },
      "outputs": [
        {
          "data": {
            "text/plain": [
              "array(['no', 'yes'], dtype=object)"
            ]
          },
          "execution_count": 146,
          "metadata": {},
          "output_type": "execute_result"
        }
      ],
      "source": [
        "#looking at the features\n",
        "action_detail_feat=count_vec_action_detail.get_feature_names_out()\n",
        "\n",
        "action_detail_feat"
      ]
    },
    {
      "cell_type": "code",
      "execution_count": null,
      "metadata": {
        "colab": {
          "base_uri": "https://localhost:8080/"
        },
        "id": "AgOc3KEhBttX",
        "outputId": "a4beddff-9f54-41af-e0bd-899a4c94d467"
      },
      "outputs": [
        {
          "name": "stdout",
          "output_type": "stream",
          "text": [
            "(188340, 2)\n",
            "(22265, 2)\n"
          ]
        }
      ],
      "source": [
        "train_df_action_detail_count_vec_dense=train_df_action_detail_count_vec.toarray() #converting to dense matrix\n",
        "\n",
        "test_df_action_detail_count_vec_dense=test_df_action_detail_count_vec.toarray() #converting to dense matrix\n",
        "\n",
        "train_df_action_detail_count_vec_df = pd.DataFrame(train_df_action_detail_count_vec_dense, columns=action_detail_feat) #converting it to a df for merging\n",
        "\n",
        "test_df_action_detail_count_vec_df = pd.DataFrame(test_df_action_detail_count_vec_dense, columns=action_detail_feat) #converting it to a df for merging\n",
        "\n",
        "print(train_df_action_detail_count_vec_df.shape)\n",
        "\n",
        "print(test_df_action_detail_count_vec_df.shape)"
      ]
    },
    {
      "cell_type": "code",
      "execution_count": null,
      "metadata": {
        "id": "IFWy-s0gBtz4"
      },
      "outputs": [],
      "source": [
        "train_df_final_df= pd.concat([train_df,train_df_action_count_vec_df, train_df_action_type_count_vec_df,train_df_action_detail_count_vec_df], axis=1)\n",
        "\n",
        "test_df_final_df= pd.concat([test_df,test_df_action_count_vec_df, test_df_action_type_count_vec_df,test_df_action_detail_count_vec_df], axis=1)"
      ]
    },
    {
      "cell_type": "code",
      "execution_count": null,
      "metadata": {
        "colab": {
          "base_uri": "https://localhost:8080/"
        },
        "id": "sXc4hCLBBt3L",
        "outputId": "fc2af613-5ce7-4af5-9fc4-286747b97e5b"
      },
      "outputs": [
        {
          "name": "stdout",
          "output_type": "stream",
          "text": [
            "(188340, 25)\n",
            "(22265, 22)\n"
          ]
        }
      ],
      "source": [
        "print(train_df_final_df.shape)\n",
        "print(test_df_final_df.shape)"
      ]
    },
    {
      "cell_type": "code",
      "execution_count": null,
      "metadata": {
        "colab": {
          "base_uri": "https://localhost:8080/"
        },
        "id": "6xnQHusHDqha",
        "outputId": "c9ed9870-b515-44ee-81bb-831028992d8d"
      },
      "outputs": [
        {
          "data": {
            "text/plain": [
              "['ID',\n",
              " 'Store_id',\n",
              " 'Store_Type',\n",
              " 'Location_Type',\n",
              " 'Region_Code',\n",
              " 'Sales_Date',\n",
              " 'Holiday',\n",
              " 'Discount',\n",
              " '#Order',\n",
              " 'Sales',\n",
              " 'date_Sale_day',\n",
              " 'date_Sale_month',\n",
              " 'date_Sale_year',\n",
              " 'order_interv']"
            ]
          },
          "execution_count": 150,
          "metadata": {},
          "output_type": "execute_result"
        }
      ],
      "source": [
        "# creating a list to store all the column names\n",
        "col_lst = [i for i in train_df.columns]\n",
        "\n",
        "col_lst"
      ]
    },
    {
      "cell_type": "code",
      "execution_count": null,
      "metadata": {
        "colab": {
          "base_uri": "https://localhost:8080/"
        },
        "id": "uILwJRpxDuPS",
        "outputId": "8531dc15-9d61-46c7-b463-04d0903d7701"
      },
      "outputs": [
        {
          "data": {
            "text/plain": [
              "25"
            ]
          },
          "execution_count": 151,
          "metadata": {},
          "output_type": "execute_result"
        }
      ],
      "source": [
        "col_lst.extend(action_feat) #extend the list by adding new elements into it\n",
        "\n",
        "col_lst.extend(action_type_feat)\n",
        "\n",
        "col_lst.extend(action_detail_feat)\n",
        "\n",
        "len(col_lst)"
      ]
    },
    {
      "cell_type": "code",
      "execution_count": null,
      "metadata": {
        "colab": {
          "base_uri": "https://localhost:8080/"
        },
        "id": "bNVoTmFWDuSM",
        "outputId": "22fd375b-9f96-448d-c556-1c82348e5975"
      },
      "outputs": [
        {
          "data": {
            "text/plain": [
              "array([0, 0, 0, ..., 1, 1, 0])"
            ]
          },
          "execution_count": 152,
          "metadata": {},
          "output_type": "execute_result"
        }
      ],
      "source": [
        "le = LabelEncoder() #making the true lables numeric for ML modelling\n",
        "\n",
        "y = le.fit_transform(y)\n",
        "\n",
        "y"
      ]
    },
    {
      "cell_type": "code",
      "execution_count": null,
      "metadata": {
        "colab": {
          "base_uri": "https://localhost:8080/"
        },
        "id": "hko6V_LbDuWa",
        "outputId": "8c1378f2-4366-4eea-a66e-1cf70c2a02fb"
      },
      "outputs": [
        {
          "data": {
            "text/plain": [
              "(188340,)"
            ]
          },
          "execution_count": 153,
          "metadata": {},
          "output_type": "execute_result"
        }
      ],
      "source": [
        "y.shape"
      ]
    },
    {
      "cell_type": "code",
      "execution_count": null,
      "metadata": {
        "id": "7d80Dhoiasr5"
      },
      "outputs": [],
      "source": []
    },
    {
      "cell_type": "markdown",
      "metadata": {
        "id": "cbrwlpqiER_7"
      },
      "source": [
        "We'll need to save the test data, along with the label encoder to get the countries back from their labels along with that we'll be saving the best model.\n",
        "\n"
      ]
    },
    {
      "cell_type": "code",
      "execution_count": null,
      "metadata": {
        "id": "J7FyUB6pDuZ5"
      },
      "outputs": [],
      "source": [
        "#saving train dataset\n",
        "train_df_final_df.to_csv(\"final_train_dataset.csv\", index=False)\n",
        "\n",
        "#saving the test dataset\n",
        "test_df_final_df.to_csv(\"final_test_dataset.csv\", index=False)\n",
        "\n",
        "#saving the label encoder\n",
        "pickle.dump(le, open(\"label_encoder.pickle\", \"wb\"))"
      ]
    },
    {
      "cell_type": "code",
      "execution_count": null,
      "metadata": {
        "id": "qAswc-2sdcgo"
      },
      "outputs": [],
      "source": [
        "train_df_final_df.drop(['ID','Store_Type','Location_Type','Store_id','Region_Code','Sales_Date','Discount'],axis=1,inplace = True)\n",
        "test_df_final_df.drop(['ID','Store_Type','Location_Type','Store_id','Region_Code','Sales_Date','Discount'],axis=1,inplace = True)"
      ]
    },
    {
      "cell_type": "code",
      "execution_count": null,
      "metadata": {
        "id": "IfaAm0LJEBZ8"
      },
      "outputs": [],
      "source": [
        "# https://www.kaggle.com/davidgasquez/ndcg-scorer\n",
        "\n",
        "def dcg_score(y_true, y_score, k=3):\n",
        "\n",
        "    \"\"\"Discounted cumulative gain (DCG) at rank K.\n",
        "\n",
        "    Parameters\n",
        "    ----------\n",
        "    y_true : array, shape = [n_samples]\n",
        "        Ground truth (true relevance labels).\n",
        "    y_score : array, shape = [n_samples, n_classes]\n",
        "        Predicted scores.\n",
        "    k : int\n",
        "        Rank.\n",
        "\n",
        "    Returns\n",
        "    -------\n",
        "    score : float\n",
        "    \"\"\"\n",
        "\n",
        "    order = np.argsort(y_score)[::-1] # sorts the indices of y_score in descending order. This helps us to rank the predictions from the highest to the lowest score.\n",
        "    y_true = np.take(y_true, order[:k]) #reorders y_true based on the sorted indices and selects the top-k values. This aligns the true labels with the top-k predicted scores.\n",
        "\n",
        "    gain = 2 ** y_true - 1 #calculate gain or numerator part of the dcg formula\n",
        "\n",
        "    discounts = np.log2(np.arange(len(y_true)) + 2) #calculate discount or denominator part of the dcg formula\n",
        "    return np.sum(gain / discounts)\n",
        "\n",
        "\n",
        "def ndcg_score(ground_truth, predictions, k=5):\n",
        "\n",
        "    \"\"\"Normalized discounted cumulative gain (NDCG) at rank K.\n",
        "\n",
        "    Normalized Discounted Cumulative Gain (NDCG) measures the performance of a\n",
        "    recommendation system based on the graded relevance of the recommended\n",
        "    entities. It varies from 0.0 to 1.0, with 1.0 representing the ideal\n",
        "    ranking of the entities.\n",
        "\n",
        "    Parameters\n",
        "    ----------\n",
        "    ground_truth : array, shape = [n_samples]\n",
        "        Ground truth (true labels represended as integers).\n",
        "    predictions : array, shape = [n_samples, n_classes]\n",
        "        Predicted probabilities.\n",
        "    k : int\n",
        "        Rank.\n",
        "\n",
        "    Returns\n",
        "    -------\n",
        "    score : float\n",
        "\n",
        "    Example\n",
        "    -------\n",
        "    >>> ground_truth = [1, 0, 2]\n",
        "    >>> predictions = [[0.15, 0.55, 0.2], [0.7, 0.2, 0.1], [0.06, 0.04, 0.9]]\n",
        "    >>> score = ndcg_score(ground_truth, predictions, k=2)\n",
        "    1.0\n",
        "    >>> predictions = [[0.9, 0.5, 0.8], [0.7, 0.2, 0.1], [0.06, 0.04, 0.9]]\n",
        "    >>> score = ndcg_score(ground_truth, predictions, k=2)\n",
        "    0.6666666666\n",
        "    \"\"\"\n",
        "\n",
        "    lb = LabelBinarizer() #Initializes a binarizer to convert multi-class labels to binary indicators.\n",
        "    lb.fit(range(predictions.shape[1] + 1)) # predictions.shape[1] equals number of classes it'll be 12 in this case\n",
        "    T = lb.transform(ground_truth) #it'll reshape each ground truth lable to number of classes that is 5 since we are predicting for 5 countries\n",
        "    print(f'The original ground truth shape is{ground_truth.shape}')\n",
        "    print(f'The transformed ground truth shape is{T.shape}')\n",
        "    scores = []\n",
        "\n",
        "    # Iterate over each y_true and compute the DCG score\n",
        "    for y_true, y_score in zip(T, predictions):\n",
        "        actual = dcg_score(y_true, y_score, k) #to compute the DCG score for the actual predictions.\n",
        "        best = dcg_score(y_true, y_true, k) #to compute the DCG score for the ideal predictions (i.e., using the true labels as predictions).\n",
        "        score = float(actual) / float(best)\n",
        "        scores.append(score)\n",
        "\n",
        "    return np.mean(scores) #Returns the mean of the NDCG scores for all samples.\n",
        "\n",
        "\n",
        "# NDCG Scorer function\n",
        "ndcg_scorer = make_scorer(ndcg_score, needs_proba=True, k=3)"
      ]
    },
    {
      "cell_type": "markdown",
      "metadata": {
        "id": "Z5S_iG--Enh9"
      },
      "source": [
        "## Testing with Logistic regression"
      ]
    },
    {
      "cell_type": "code",
      "execution_count": null,
      "metadata": {
        "id": "_xbXCslXEBdA"
      },
      "outputs": [],
      "source": [
        "params =  {'C':[0.0001, 0.001, 0.01]}\n",
        "\n",
        "lr = linear_model.LogisticRegression(multi_class=\"multinomial\",solver=\"lbfgs\")\n",
        "\n",
        "clf = RandomizedSearchCV(lr, params, verbose=10, n_iter=3 ,n_jobs=-1,scoring=ndcg_scorer)"
      ]
    },
    {
      "cell_type": "code",
      "execution_count": null,
      "metadata": {
        "colab": {
          "base_uri": "https://localhost:8080/",
          "height": 134
        },
        "id": "YQ_MRPAzEBkF",
        "outputId": "77b385ad-38fb-4d3b-abb7-3565603afd15"
      },
      "outputs": [
        {
          "name": "stdout",
          "output_type": "stream",
          "text": [
            "Fitting 5 folds for each of 3 candidates, totalling 15 fits\n"
          ]
        },
        {
          "data": {
            "text/html": [
              "<style>#sk-container-id-2 {color: black;}#sk-container-id-2 pre{padding: 0;}#sk-container-id-2 div.sk-toggleable {background-color: white;}#sk-container-id-2 label.sk-toggleable__label {cursor: pointer;display: block;width: 100%;margin-bottom: 0;padding: 0.3em;box-sizing: border-box;text-align: center;}#sk-container-id-2 label.sk-toggleable__label-arrow:before {content: \"▸\";float: left;margin-right: 0.25em;color: #696969;}#sk-container-id-2 label.sk-toggleable__label-arrow:hover:before {color: black;}#sk-container-id-2 div.sk-estimator:hover label.sk-toggleable__label-arrow:before {color: black;}#sk-container-id-2 div.sk-toggleable__content {max-height: 0;max-width: 0;overflow: hidden;text-align: left;background-color: #f0f8ff;}#sk-container-id-2 div.sk-toggleable__content pre {margin: 0.2em;color: black;border-radius: 0.25em;background-color: #f0f8ff;}#sk-container-id-2 input.sk-toggleable__control:checked~div.sk-toggleable__content {max-height: 200px;max-width: 100%;overflow: auto;}#sk-container-id-2 input.sk-toggleable__control:checked~label.sk-toggleable__label-arrow:before {content: \"▾\";}#sk-container-id-2 div.sk-estimator input.sk-toggleable__control:checked~label.sk-toggleable__label {background-color: #d4ebff;}#sk-container-id-2 div.sk-label input.sk-toggleable__control:checked~label.sk-toggleable__label {background-color: #d4ebff;}#sk-container-id-2 input.sk-hidden--visually {border: 0;clip: rect(1px 1px 1px 1px);clip: rect(1px, 1px, 1px, 1px);height: 1px;margin: -1px;overflow: hidden;padding: 0;position: absolute;width: 1px;}#sk-container-id-2 div.sk-estimator {font-family: monospace;background-color: #f0f8ff;border: 1px dotted black;border-radius: 0.25em;box-sizing: border-box;margin-bottom: 0.5em;}#sk-container-id-2 div.sk-estimator:hover {background-color: #d4ebff;}#sk-container-id-2 div.sk-parallel-item::after {content: \"\";width: 100%;border-bottom: 1px solid gray;flex-grow: 1;}#sk-container-id-2 div.sk-label:hover label.sk-toggleable__label {background-color: #d4ebff;}#sk-container-id-2 div.sk-serial::before {content: \"\";position: absolute;border-left: 1px solid gray;box-sizing: border-box;top: 0;bottom: 0;left: 50%;z-index: 0;}#sk-container-id-2 div.sk-serial {display: flex;flex-direction: column;align-items: center;background-color: white;padding-right: 0.2em;padding-left: 0.2em;position: relative;}#sk-container-id-2 div.sk-item {position: relative;z-index: 1;}#sk-container-id-2 div.sk-parallel {display: flex;align-items: stretch;justify-content: center;background-color: white;position: relative;}#sk-container-id-2 div.sk-item::before, #sk-container-id-2 div.sk-parallel-item::before {content: \"\";position: absolute;border-left: 1px solid gray;box-sizing: border-box;top: 0;bottom: 0;left: 50%;z-index: -1;}#sk-container-id-2 div.sk-parallel-item {display: flex;flex-direction: column;z-index: 1;position: relative;background-color: white;}#sk-container-id-2 div.sk-parallel-item:first-child::after {align-self: flex-end;width: 50%;}#sk-container-id-2 div.sk-parallel-item:last-child::after {align-self: flex-start;width: 50%;}#sk-container-id-2 div.sk-parallel-item:only-child::after {width: 0;}#sk-container-id-2 div.sk-dashed-wrapped {border: 1px dashed gray;margin: 0 0.4em 0.5em 0.4em;box-sizing: border-box;padding-bottom: 0.4em;background-color: white;}#sk-container-id-2 div.sk-label label {font-family: monospace;font-weight: bold;display: inline-block;line-height: 1.2em;}#sk-container-id-2 div.sk-label-container {text-align: center;}#sk-container-id-2 div.sk-container {/* jupyter's `normalize.less` sets `[hidden] { display: none; }` but bootstrap.min.css set `[hidden] { display: none !important; }` so we also need the `!important` here to be able to override the default hidden behavior on the sphinx rendered scikit-learn.org. See: https://github.com/scikit-learn/scikit-learn/issues/21755 */display: inline-block !important;position: relative;}#sk-container-id-2 div.sk-text-repr-fallback {display: none;}</style><div id=\"sk-container-id-2\" class=\"sk-top-container\"><div class=\"sk-text-repr-fallback\"><pre>RandomizedSearchCV(estimator=LogisticRegression(multi_class=&#x27;multinomial&#x27;),\n",
              "                   n_iter=3, n_jobs=-1,\n",
              "                   param_distributions={&#x27;C&#x27;: [0.0001, 0.001, 0.01]},\n",
              "                   scoring=make_scorer(ndcg_score, needs_proba=True, k=3),\n",
              "                   verbose=10)</pre><b>In a Jupyter environment, please rerun this cell to show the HTML representation or trust the notebook. <br />On GitHub, the HTML representation is unable to render, please try loading this page with nbviewer.org.</b></div><div class=\"sk-container\" hidden><div class=\"sk-item sk-dashed-wrapped\"><div class=\"sk-label-container\"><div class=\"sk-label sk-toggleable\"><input class=\"sk-toggleable__control sk-hidden--visually\" id=\"sk-estimator-id-4\" type=\"checkbox\" ><label for=\"sk-estimator-id-4\" class=\"sk-toggleable__label sk-toggleable__label-arrow\">RandomizedSearchCV</label><div class=\"sk-toggleable__content\"><pre>RandomizedSearchCV(estimator=LogisticRegression(multi_class=&#x27;multinomial&#x27;),\n",
              "                   n_iter=3, n_jobs=-1,\n",
              "                   param_distributions={&#x27;C&#x27;: [0.0001, 0.001, 0.01]},\n",
              "                   scoring=make_scorer(ndcg_score, needs_proba=True, k=3),\n",
              "                   verbose=10)</pre></div></div></div><div class=\"sk-parallel\"><div class=\"sk-parallel-item\"><div class=\"sk-item\"><div class=\"sk-label-container\"><div class=\"sk-label sk-toggleable\"><input class=\"sk-toggleable__control sk-hidden--visually\" id=\"sk-estimator-id-5\" type=\"checkbox\" ><label for=\"sk-estimator-id-5\" class=\"sk-toggleable__label sk-toggleable__label-arrow\">estimator: LogisticRegression</label><div class=\"sk-toggleable__content\"><pre>LogisticRegression(multi_class=&#x27;multinomial&#x27;)</pre></div></div></div><div class=\"sk-serial\"><div class=\"sk-item\"><div class=\"sk-estimator sk-toggleable\"><input class=\"sk-toggleable__control sk-hidden--visually\" id=\"sk-estimator-id-6\" type=\"checkbox\" ><label for=\"sk-estimator-id-6\" class=\"sk-toggleable__label sk-toggleable__label-arrow\">LogisticRegression</label><div class=\"sk-toggleable__content\"><pre>LogisticRegression(multi_class=&#x27;multinomial&#x27;)</pre></div></div></div></div></div></div></div></div></div></div>"
            ],
            "text/plain": [
              "RandomizedSearchCV(estimator=LogisticRegression(multi_class='multinomial'),\n",
              "                   n_iter=3, n_jobs=-1,\n",
              "                   param_distributions={'C': [0.0001, 0.001, 0.01]},\n",
              "                   scoring=make_scorer(ndcg_score, needs_proba=True, k=3),\n",
              "                   verbose=10)"
            ]
          },
          "execution_count": 65,
          "metadata": {},
          "output_type": "execute_result"
        }
      ],
      "source": [
        "clf.fit(train_df_final_df,y)"
      ]
    },
    {
      "cell_type": "code",
      "execution_count": null,
      "metadata": {
        "colab": {
          "base_uri": "https://localhost:8080/"
        },
        "id": "U5-5R93APDNV",
        "outputId": "5542b7cc-a2f0-45eb-a091-4bdb1b96f255"
      },
      "outputs": [
        {
          "data": {
            "text/plain": [
              "{'C': 0.01}"
            ]
          },
          "execution_count": 66,
          "metadata": {},
          "output_type": "execute_result"
        }
      ],
      "source": [
        "clf.best_params_"
      ]
    },
    {
      "cell_type": "code",
      "execution_count": null,
      "metadata": {
        "id": "D0d9Sqwae6j1"
      },
      "outputs": [],
      "source": [
        "pred_y = clf.predict_proba(train_df_final_df)"
      ]
    },
    {
      "cell_type": "code",
      "execution_count": null,
      "metadata": {
        "colab": {
          "base_uri": "https://localhost:8080/"
        },
        "id": "C5O6ii_chy72",
        "outputId": "b2d2a796-c04d-46c3-dc92-6ea276f06b20"
      },
      "outputs": [
        {
          "data": {
            "text/plain": [
              "(188340, 4)"
            ]
          },
          "execution_count": 68,
          "metadata": {},
          "output_type": "execute_result"
        }
      ],
      "source": [
        "pred_y.shape"
      ]
    },
    {
      "cell_type": "markdown",
      "metadata": {
        "id": "WGV_T69Ah3Wb"
      },
      "source": [
        "If you see above the shape of pred_y is number_of_samples, num_of_classes here as we know that there are 12 unique destination countries our model gives probability scores for each of the countries since it's a multi-class classification task."
      ]
    },
    {
      "cell_type": "code",
      "execution_count": null,
      "metadata": {
        "colab": {
          "base_uri": "https://localhost:8080/"
        },
        "id": "Fb2ZT1uwh0i7",
        "outputId": "d3484f5b-5c15-45cd-b0b0-cfd59c2eecbe"
      },
      "outputs": [
        {
          "name": "stdout",
          "output_type": "stream",
          "text": [
            "The original ground truth shape is(188340,)\n",
            "The transformed ground truth shape is(188340, 5)\n"
          ]
        },
        {
          "data": {
            "text/plain": [
              "0.7030730072810685"
            ]
          },
          "execution_count": 69,
          "metadata": {},
          "output_type": "execute_result"
        }
      ],
      "source": [
        "\n",
        "s = ndcg_score(y, pred_y, k=5)\n",
        "\n",
        "s"
      ]
    },
    {
      "cell_type": "markdown",
      "metadata": {
        "id": "JnNYsBI9iDC1"
      },
      "source": [
        "## Testing with RF"
      ]
    },
    {
      "cell_type": "code",
      "execution_count": null,
      "metadata": {
        "id": "AVkGjqcsh7vq"
      },
      "outputs": [],
      "source": [
        "# training of the model takes time please do not run unless requried\n",
        "params = {\n",
        "'n_estimators' : [200, 700, 800, 1000, 1200],\n",
        "'max_depth' : [15, 20, 25, 30, 35, 50],\n",
        "'min_samples_split' : [2, 3, 5, 8],\n",
        "'min_samples_leaf' : [1, 2, 5, 10] }\n",
        "\n",
        "rf = RandomForestClassifier()\n",
        "\n",
        "clf = RandomizedSearchCV(rf, params, verbose=10,n_jobs=2,scoring=ndcg_scorer)"
      ]
    },
    {
      "cell_type": "code",
      "execution_count": null,
      "metadata": {
        "id": "vESep5RliFgP",
        "outputId": "cf375abd-5887-4269-bb27-211f69458440"
      },
      "outputs": [
        {
          "name": "stdout",
          "output_type": "stream",
          "text": [
            "Fitting 5 folds for each of 10 candidates, totalling 50 fits\n"
          ]
        },
        {
          "data": {
            "text/html": [
              "<style>#sk-container-id-3 {color: black;}#sk-container-id-3 pre{padding: 0;}#sk-container-id-3 div.sk-toggleable {background-color: white;}#sk-container-id-3 label.sk-toggleable__label {cursor: pointer;display: block;width: 100%;margin-bottom: 0;padding: 0.3em;box-sizing: border-box;text-align: center;}#sk-container-id-3 label.sk-toggleable__label-arrow:before {content: \"▸\";float: left;margin-right: 0.25em;color: #696969;}#sk-container-id-3 label.sk-toggleable__label-arrow:hover:before {color: black;}#sk-container-id-3 div.sk-estimator:hover label.sk-toggleable__label-arrow:before {color: black;}#sk-container-id-3 div.sk-toggleable__content {max-height: 0;max-width: 0;overflow: hidden;text-align: left;background-color: #f0f8ff;}#sk-container-id-3 div.sk-toggleable__content pre {margin: 0.2em;color: black;border-radius: 0.25em;background-color: #f0f8ff;}#sk-container-id-3 input.sk-toggleable__control:checked~div.sk-toggleable__content {max-height: 200px;max-width: 100%;overflow: auto;}#sk-container-id-3 input.sk-toggleable__control:checked~label.sk-toggleable__label-arrow:before {content: \"▾\";}#sk-container-id-3 div.sk-estimator input.sk-toggleable__control:checked~label.sk-toggleable__label {background-color: #d4ebff;}#sk-container-id-3 div.sk-label input.sk-toggleable__control:checked~label.sk-toggleable__label {background-color: #d4ebff;}#sk-container-id-3 input.sk-hidden--visually {border: 0;clip: rect(1px 1px 1px 1px);clip: rect(1px, 1px, 1px, 1px);height: 1px;margin: -1px;overflow: hidden;padding: 0;position: absolute;width: 1px;}#sk-container-id-3 div.sk-estimator {font-family: monospace;background-color: #f0f8ff;border: 1px dotted black;border-radius: 0.25em;box-sizing: border-box;margin-bottom: 0.5em;}#sk-container-id-3 div.sk-estimator:hover {background-color: #d4ebff;}#sk-container-id-3 div.sk-parallel-item::after {content: \"\";width: 100%;border-bottom: 1px solid gray;flex-grow: 1;}#sk-container-id-3 div.sk-label:hover label.sk-toggleable__label {background-color: #d4ebff;}#sk-container-id-3 div.sk-serial::before {content: \"\";position: absolute;border-left: 1px solid gray;box-sizing: border-box;top: 0;bottom: 0;left: 50%;z-index: 0;}#sk-container-id-3 div.sk-serial {display: flex;flex-direction: column;align-items: center;background-color: white;padding-right: 0.2em;padding-left: 0.2em;position: relative;}#sk-container-id-3 div.sk-item {position: relative;z-index: 1;}#sk-container-id-3 div.sk-parallel {display: flex;align-items: stretch;justify-content: center;background-color: white;position: relative;}#sk-container-id-3 div.sk-item::before, #sk-container-id-3 div.sk-parallel-item::before {content: \"\";position: absolute;border-left: 1px solid gray;box-sizing: border-box;top: 0;bottom: 0;left: 50%;z-index: -1;}#sk-container-id-3 div.sk-parallel-item {display: flex;flex-direction: column;z-index: 1;position: relative;background-color: white;}#sk-container-id-3 div.sk-parallel-item:first-child::after {align-self: flex-end;width: 50%;}#sk-container-id-3 div.sk-parallel-item:last-child::after {align-self: flex-start;width: 50%;}#sk-container-id-3 div.sk-parallel-item:only-child::after {width: 0;}#sk-container-id-3 div.sk-dashed-wrapped {border: 1px dashed gray;margin: 0 0.4em 0.5em 0.4em;box-sizing: border-box;padding-bottom: 0.4em;background-color: white;}#sk-container-id-3 div.sk-label label {font-family: monospace;font-weight: bold;display: inline-block;line-height: 1.2em;}#sk-container-id-3 div.sk-label-container {text-align: center;}#sk-container-id-3 div.sk-container {/* jupyter's `normalize.less` sets `[hidden] { display: none; }` but bootstrap.min.css set `[hidden] { display: none !important; }` so we also need the `!important` here to be able to override the default hidden behavior on the sphinx rendered scikit-learn.org. See: https://github.com/scikit-learn/scikit-learn/issues/21755 */display: inline-block !important;position: relative;}#sk-container-id-3 div.sk-text-repr-fallback {display: none;}</style><div id=\"sk-container-id-3\" class=\"sk-top-container\"><div class=\"sk-text-repr-fallback\"><pre>RandomizedSearchCV(estimator=RandomForestClassifier(), n_jobs=2,\n",
              "                   param_distributions={&#x27;max_depth&#x27;: [15, 20, 25, 30, 35, 50],\n",
              "                                        &#x27;min_samples_leaf&#x27;: [1, 2, 5, 10],\n",
              "                                        &#x27;min_samples_split&#x27;: [2, 3, 5, 8],\n",
              "                                        &#x27;n_estimators&#x27;: [200, 700, 800, 1000,\n",
              "                                                         1200]},\n",
              "                   scoring=make_scorer(ndcg_score, needs_proba=True, k=3),\n",
              "                   verbose=10)</pre><b>In a Jupyter environment, please rerun this cell to show the HTML representation or trust the notebook. <br />On GitHub, the HTML representation is unable to render, please try loading this page with nbviewer.org.</b></div><div class=\"sk-container\" hidden><div class=\"sk-item sk-dashed-wrapped\"><div class=\"sk-label-container\"><div class=\"sk-label sk-toggleable\"><input class=\"sk-toggleable__control sk-hidden--visually\" id=\"sk-estimator-id-7\" type=\"checkbox\" ><label for=\"sk-estimator-id-7\" class=\"sk-toggleable__label sk-toggleable__label-arrow\">RandomizedSearchCV</label><div class=\"sk-toggleable__content\"><pre>RandomizedSearchCV(estimator=RandomForestClassifier(), n_jobs=2,\n",
              "                   param_distributions={&#x27;max_depth&#x27;: [15, 20, 25, 30, 35, 50],\n",
              "                                        &#x27;min_samples_leaf&#x27;: [1, 2, 5, 10],\n",
              "                                        &#x27;min_samples_split&#x27;: [2, 3, 5, 8],\n",
              "                                        &#x27;n_estimators&#x27;: [200, 700, 800, 1000,\n",
              "                                                         1200]},\n",
              "                   scoring=make_scorer(ndcg_score, needs_proba=True, k=3),\n",
              "                   verbose=10)</pre></div></div></div><div class=\"sk-parallel\"><div class=\"sk-parallel-item\"><div class=\"sk-item\"><div class=\"sk-label-container\"><div class=\"sk-label sk-toggleable\"><input class=\"sk-toggleable__control sk-hidden--visually\" id=\"sk-estimator-id-8\" type=\"checkbox\" ><label for=\"sk-estimator-id-8\" class=\"sk-toggleable__label sk-toggleable__label-arrow\">estimator: RandomForestClassifier</label><div class=\"sk-toggleable__content\"><pre>RandomForestClassifier()</pre></div></div></div><div class=\"sk-serial\"><div class=\"sk-item\"><div class=\"sk-estimator sk-toggleable\"><input class=\"sk-toggleable__control sk-hidden--visually\" id=\"sk-estimator-id-9\" type=\"checkbox\" ><label for=\"sk-estimator-id-9\" class=\"sk-toggleable__label sk-toggleable__label-arrow\">RandomForestClassifier</label><div class=\"sk-toggleable__content\"><pre>RandomForestClassifier()</pre></div></div></div></div></div></div></div></div></div></div>"
            ],
            "text/plain": [
              "RandomizedSearchCV(estimator=RandomForestClassifier(), n_jobs=2,\n",
              "                   param_distributions={'max_depth': [15, 20, 25, 30, 35, 50],\n",
              "                                        'min_samples_leaf': [1, 2, 5, 10],\n",
              "                                        'min_samples_split': [2, 3, 5, 8],\n",
              "                                        'n_estimators': [200, 700, 800, 1000,\n",
              "                                                         1200]},\n",
              "                   scoring=make_scorer(ndcg_score, needs_proba=True, k=3),\n",
              "                   verbose=10)"
            ]
          },
          "execution_count": 89,
          "metadata": {},
          "output_type": "execute_result"
        }
      ],
      "source": [
        "clf.fit(train_df_final_df,y) #takes more than 2 and half hour to run"
      ]
    },
    {
      "cell_type": "code",
      "execution_count": null,
      "metadata": {
        "id": "f810o8oiiHZK"
      },
      "outputs": [],
      "source": [
        "pred_y = clf.predict_proba(train_df_final_df)"
      ]
    },
    {
      "cell_type": "code",
      "execution_count": null,
      "metadata": {
        "id": "v4BeeQbloXoX",
        "outputId": "06ec5ebd-c5a0-4a37-a212-1c5fe3485946"
      },
      "outputs": [
        {
          "data": {
            "text/plain": [
              "{'n_estimators': 200,\n",
              " 'min_samples_split': 2,\n",
              " 'min_samples_leaf': 10,\n",
              " 'max_depth': 15}"
            ]
          },
          "execution_count": 91,
          "metadata": {},
          "output_type": "execute_result"
        }
      ],
      "source": [
        "clf.best_params_"
      ]
    },
    {
      "cell_type": "code",
      "execution_count": null,
      "metadata": {
        "id": "Y6SQ3xz9OLH1"
      },
      "outputs": [],
      "source": [
        "# Access the best estimator from the RandomizedSearchCV object\n",
        "best_clf = clf.best_estimator_"
      ]
    },
    {
      "cell_type": "code",
      "execution_count": null,
      "metadata": {
        "id": "XLunX-4-OLH1",
        "outputId": "b8028bb7-c3c2-4a5d-8155-d36be2a7b15e"
      },
      "outputs": [
        {
          "name": "stdout",
          "output_type": "stream",
          "text": [
            "The original ground truth shape is(188340,)\n",
            "The transformed ground truth shape is(188340, 5)\n"
          ]
        },
        {
          "data": {
            "text/plain": [
              "0.7925478845204602"
            ]
          },
          "execution_count": 96,
          "metadata": {},
          "output_type": "execute_result"
        }
      ],
      "source": [
        "#Train ndcg score\n",
        "\n",
        "s = ndcg_score(y, pred_y, k=5)\n",
        "\n",
        "s"
      ]
    },
    {
      "cell_type": "markdown",
      "metadata": {
        "id": "dB9JineEOLH1"
      },
      "source": [
        "Testing on test data"
      ]
    },
    {
      "cell_type": "code",
      "execution_count": null,
      "metadata": {
        "id": "cU5e8BouOLH2"
      },
      "outputs": [],
      "source": [
        "test_id = test_df['ID'].values"
      ]
    },
    {
      "cell_type": "code",
      "execution_count": null,
      "metadata": {
        "id": "1MaGbxvbOLH2"
      },
      "outputs": [],
      "source": [
        "#saving ml model\n",
        "pickle.dump(best_clf, open(\"best_ml_model.pickle\", \"wb\"))"
      ]
    },
    {
      "cell_type": "markdown",
      "metadata": {
        "id": "tOG8fVKpOLH2"
      },
      "source": [
        "## Testing with XgBoost [Homework]"
      ]
    },
    {
      "cell_type": "code",
      "execution_count": null,
      "metadata": {
        "id": "pwCpDVkHOLH3",
        "outputId": "ae38c272-dd45-402d-eb54-e068080a8c83"
      },
      "outputs": [
        {
          "ename": "NameError",
          "evalue": "name 'xgb' is not defined",
          "output_type": "error",
          "traceback": [
            "\u001b[1;31m---------------------------------------------------------------------------\u001b[0m",
            "\u001b[1;31mNameError\u001b[0m                                 Traceback (most recent call last)",
            "Cell \u001b[1;32mIn[164], line 13\u001b[0m\n\u001b[0;32m      1\u001b[0m param_grid \u001b[38;5;241m=\u001b[39m {\n\u001b[0;32m      2\u001b[0m \u001b[38;5;124m'\u001b[39m\u001b[38;5;124mmax_depth\u001b[39m\u001b[38;5;124m'\u001b[39m: sp_randint(\u001b[38;5;241m3\u001b[39m, \u001b[38;5;241m20\u001b[39m),\n\u001b[0;32m      3\u001b[0m \u001b[38;5;124m'\u001b[39m\u001b[38;5;124mlearning_rate\u001b[39m\u001b[38;5;124m'\u001b[39m: [\u001b[38;5;241m0.001\u001b[39m, \u001b[38;5;241m0.01\u001b[39m, \u001b[38;5;241m0.1\u001b[39m, \u001b[38;5;241m0.2\u001b[39m],\n\u001b[1;32m   (...)\u001b[0m\n\u001b[0;32m     10\u001b[0m \u001b[38;5;124m'\u001b[39m\u001b[38;5;124mcolsample_bylevel\u001b[39m\u001b[38;5;124m'\u001b[39m:[\u001b[38;5;241m0.1\u001b[39m,\u001b[38;5;241m0.3\u001b[39m,\u001b[38;5;241m0.5\u001b[39m,\u001b[38;5;241m1\u001b[39m]\n\u001b[0;32m     11\u001b[0m }\n\u001b[1;32m---> 13\u001b[0m gb \u001b[38;5;241m=\u001b[39m xgb\u001b[38;5;241m.\u001b[39mXGBClassifier(objective\u001b[38;5;241m=\u001b[39m\u001b[38;5;124m'\u001b[39m\u001b[38;5;124mmulti:softmax\u001b[39m\u001b[38;5;124m'\u001b[39m,eval_metric\u001b[38;5;241m=\u001b[39m \u001b[38;5;124m'\u001b[39m\u001b[38;5;124mmlogloss\u001b[39m\u001b[38;5;124m'\u001b[39m)\n\u001b[0;32m     15\u001b[0m clf \u001b[38;5;241m=\u001b[39m RandomizedSearchCV(gb, param_grid,n_jobs\u001b[38;5;241m=\u001b[39m\u001b[38;5;241m-\u001b[39m\u001b[38;5;241m1\u001b[39m,verbose\u001b[38;5;241m=\u001b[39m\u001b[38;5;241m10\u001b[39m,scoring\u001b[38;5;241m=\u001b[39mndcg_scorer, random_state\u001b[38;5;241m=\u001b[39m\u001b[38;5;241m42\u001b[39m)\n",
            "\u001b[1;31mNameError\u001b[0m: name 'xgb' is not defined"
          ]
        }
      ],
      "source": [
        "param_grid = {\n",
        "'max_depth': sp_randint(3, 20),\n",
        "'learning_rate': [0.001, 0.01, 0.1, 0.2],\n",
        "'subsample': [0.5, 0.6, 0.7, 0.8, 0.9, 1.0],\n",
        "'min_child_weight': [0.25,0.5, 1.0, 3.0, 5.0, 7.0],\n",
        "'gamma': [0, 0.25, 0.3,0.35,0.45,0.5,0.6,0.8,1.0],\n",
        "'reg_lambda': [0.1,0.2,0.4,0.5,0.6,0.8,1.0,10.0],\n",
        "'n_estimators':[100,200,500,1000,2000],\n",
        "'colsample_bytree':[0.1,0.3,0.5,1],\n",
        "'colsample_bylevel':[0.1,0.3,0.5,1]\n",
        "}\n",
        "\n",
        "gb = xgb.XGBClassifier(objective='multi:softmax',eval_metric= 'mlogloss')\n",
        "\n",
        "clf = RandomizedSearchCV(gb, param_grid,n_jobs=-1,verbose=10,scoring=ndcg_scorer, random_state=42)"
      ]
    },
    {
      "cell_type": "code",
      "execution_count": null,
      "metadata": {
        "id": "Kcn2GDjAOLH3",
        "outputId": "fc97228f-563d-4da1-85a0-164a4ab62a74"
      },
      "outputs": [
        {
          "name": "stdout",
          "output_type": "stream",
          "text": [
            "Fitting 5 folds for each of 3 candidates, totalling 15 fits\n"
          ]
        },
        {
          "data": {
            "text/html": [
              "<style>#sk-container-id-4 {color: black;}#sk-container-id-4 pre{padding: 0;}#sk-container-id-4 div.sk-toggleable {background-color: white;}#sk-container-id-4 label.sk-toggleable__label {cursor: pointer;display: block;width: 100%;margin-bottom: 0;padding: 0.3em;box-sizing: border-box;text-align: center;}#sk-container-id-4 label.sk-toggleable__label-arrow:before {content: \"▸\";float: left;margin-right: 0.25em;color: #696969;}#sk-container-id-4 label.sk-toggleable__label-arrow:hover:before {color: black;}#sk-container-id-4 div.sk-estimator:hover label.sk-toggleable__label-arrow:before {color: black;}#sk-container-id-4 div.sk-toggleable__content {max-height: 0;max-width: 0;overflow: hidden;text-align: left;background-color: #f0f8ff;}#sk-container-id-4 div.sk-toggleable__content pre {margin: 0.2em;color: black;border-radius: 0.25em;background-color: #f0f8ff;}#sk-container-id-4 input.sk-toggleable__control:checked~div.sk-toggleable__content {max-height: 200px;max-width: 100%;overflow: auto;}#sk-container-id-4 input.sk-toggleable__control:checked~label.sk-toggleable__label-arrow:before {content: \"▾\";}#sk-container-id-4 div.sk-estimator input.sk-toggleable__control:checked~label.sk-toggleable__label {background-color: #d4ebff;}#sk-container-id-4 div.sk-label input.sk-toggleable__control:checked~label.sk-toggleable__label {background-color: #d4ebff;}#sk-container-id-4 input.sk-hidden--visually {border: 0;clip: rect(1px 1px 1px 1px);clip: rect(1px, 1px, 1px, 1px);height: 1px;margin: -1px;overflow: hidden;padding: 0;position: absolute;width: 1px;}#sk-container-id-4 div.sk-estimator {font-family: monospace;background-color: #f0f8ff;border: 1px dotted black;border-radius: 0.25em;box-sizing: border-box;margin-bottom: 0.5em;}#sk-container-id-4 div.sk-estimator:hover {background-color: #d4ebff;}#sk-container-id-4 div.sk-parallel-item::after {content: \"\";width: 100%;border-bottom: 1px solid gray;flex-grow: 1;}#sk-container-id-4 div.sk-label:hover label.sk-toggleable__label {background-color: #d4ebff;}#sk-container-id-4 div.sk-serial::before {content: \"\";position: absolute;border-left: 1px solid gray;box-sizing: border-box;top: 0;bottom: 0;left: 50%;z-index: 0;}#sk-container-id-4 div.sk-serial {display: flex;flex-direction: column;align-items: center;background-color: white;padding-right: 0.2em;padding-left: 0.2em;position: relative;}#sk-container-id-4 div.sk-item {position: relative;z-index: 1;}#sk-container-id-4 div.sk-parallel {display: flex;align-items: stretch;justify-content: center;background-color: white;position: relative;}#sk-container-id-4 div.sk-item::before, #sk-container-id-4 div.sk-parallel-item::before {content: \"\";position: absolute;border-left: 1px solid gray;box-sizing: border-box;top: 0;bottom: 0;left: 50%;z-index: -1;}#sk-container-id-4 div.sk-parallel-item {display: flex;flex-direction: column;z-index: 1;position: relative;background-color: white;}#sk-container-id-4 div.sk-parallel-item:first-child::after {align-self: flex-end;width: 50%;}#sk-container-id-4 div.sk-parallel-item:last-child::after {align-self: flex-start;width: 50%;}#sk-container-id-4 div.sk-parallel-item:only-child::after {width: 0;}#sk-container-id-4 div.sk-dashed-wrapped {border: 1px dashed gray;margin: 0 0.4em 0.5em 0.4em;box-sizing: border-box;padding-bottom: 0.4em;background-color: white;}#sk-container-id-4 div.sk-label label {font-family: monospace;font-weight: bold;display: inline-block;line-height: 1.2em;}#sk-container-id-4 div.sk-label-container {text-align: center;}#sk-container-id-4 div.sk-container {/* jupyter's `normalize.less` sets `[hidden] { display: none; }` but bootstrap.min.css set `[hidden] { display: none !important; }` so we also need the `!important` here to be able to override the default hidden behavior on the sphinx rendered scikit-learn.org. See: https://github.com/scikit-learn/scikit-learn/issues/21755 */display: inline-block !important;position: relative;}#sk-container-id-4 div.sk-text-repr-fallback {display: none;}</style><div id=\"sk-container-id-4\" class=\"sk-top-container\"><div class=\"sk-text-repr-fallback\"><pre>RandomizedSearchCV(estimator=LogisticRegression(multi_class=&#x27;multinomial&#x27;),\n",
              "                   n_iter=3, n_jobs=-1,\n",
              "                   param_distributions={&#x27;C&#x27;: [0.0001, 0.001, 0.01]},\n",
              "                   scoring=make_scorer(ndcg_score, needs_proba=True, k=3),\n",
              "                   verbose=10)</pre><b>In a Jupyter environment, please rerun this cell to show the HTML representation or trust the notebook. <br />On GitHub, the HTML representation is unable to render, please try loading this page with nbviewer.org.</b></div><div class=\"sk-container\" hidden><div class=\"sk-item sk-dashed-wrapped\"><div class=\"sk-label-container\"><div class=\"sk-label sk-toggleable\"><input class=\"sk-toggleable__control sk-hidden--visually\" id=\"sk-estimator-id-10\" type=\"checkbox\" ><label for=\"sk-estimator-id-10\" class=\"sk-toggleable__label sk-toggleable__label-arrow\">RandomizedSearchCV</label><div class=\"sk-toggleable__content\"><pre>RandomizedSearchCV(estimator=LogisticRegression(multi_class=&#x27;multinomial&#x27;),\n",
              "                   n_iter=3, n_jobs=-1,\n",
              "                   param_distributions={&#x27;C&#x27;: [0.0001, 0.001, 0.01]},\n",
              "                   scoring=make_scorer(ndcg_score, needs_proba=True, k=3),\n",
              "                   verbose=10)</pre></div></div></div><div class=\"sk-parallel\"><div class=\"sk-parallel-item\"><div class=\"sk-item\"><div class=\"sk-label-container\"><div class=\"sk-label sk-toggleable\"><input class=\"sk-toggleable__control sk-hidden--visually\" id=\"sk-estimator-id-11\" type=\"checkbox\" ><label for=\"sk-estimator-id-11\" class=\"sk-toggleable__label sk-toggleable__label-arrow\">estimator: LogisticRegression</label><div class=\"sk-toggleable__content\"><pre>LogisticRegression(multi_class=&#x27;multinomial&#x27;)</pre></div></div></div><div class=\"sk-serial\"><div class=\"sk-item\"><div class=\"sk-estimator sk-toggleable\"><input class=\"sk-toggleable__control sk-hidden--visually\" id=\"sk-estimator-id-12\" type=\"checkbox\" ><label for=\"sk-estimator-id-12\" class=\"sk-toggleable__label sk-toggleable__label-arrow\">LogisticRegression</label><div class=\"sk-toggleable__content\"><pre>LogisticRegression(multi_class=&#x27;multinomial&#x27;)</pre></div></div></div></div></div></div></div></div></div></div>"
            ],
            "text/plain": [
              "RandomizedSearchCV(estimator=LogisticRegression(multi_class='multinomial'),\n",
              "                   n_iter=3, n_jobs=-1,\n",
              "                   param_distributions={'C': [0.0001, 0.001, 0.01]},\n",
              "                   scoring=make_scorer(ndcg_score, needs_proba=True, k=3),\n",
              "                   verbose=10)"
            ]
          },
          "execution_count": 166,
          "metadata": {},
          "output_type": "execute_result"
        }
      ],
      "source": [
        "clf.fit(train_df_final_df,y)"
      ]
    },
    {
      "cell_type": "code",
      "execution_count": null,
      "metadata": {
        "id": "v8EfeNE_OLH3"
      },
      "outputs": [],
      "source": [
        "pred_y = clf.predict_proba(train_df_final_df)"
      ]
    },
    {
      "cell_type": "code",
      "execution_count": null,
      "metadata": {
        "id": "NMRus5q0OLH3",
        "outputId": "7d32d870-2c67-4261-ced7-d49758f461c5"
      },
      "outputs": [
        {
          "name": "stdout",
          "output_type": "stream",
          "text": [
            "The original ground truth shape is(188340,)\n",
            "The transformed ground truth shape is(188340, 5)\n"
          ]
        },
        {
          "data": {
            "text/plain": [
              "0.7030730072810685"
            ]
          },
          "execution_count": 168,
          "metadata": {},
          "output_type": "execute_result"
        }
      ],
      "source": [
        "# Train ndcg score\n",
        "\n",
        "s = ndcg_score(y, pred_y, k=5)\n",
        "\n",
        "s"
      ]
    },
    {
      "cell_type": "code",
      "execution_count": null,
      "metadata": {
        "id": "3KAnqUbMOLH4"
      },
      "outputs": [],
      "source": [
        "test_id = test_df['ID'].values"
      ]
    },
    {
      "cell_type": "code",
      "execution_count": null,
      "metadata": {
        "id": "ITldT1vJOLH5",
        "outputId": "e36df577-ae2a-4edd-f794-1ad6a9c16346"
      },
      "outputs": [
        {
          "name": "stdout",
          "output_type": "stream",
          "text": [
            "Could not fetch URL https://pypi.org/simple/streamlit/: There was a problem confirming the ssl certificate: HTTPSConnectionPool(host='pypi.org', port=443): Max retries exceeded with url: /simple/streamlit/ (Caused by SSLError(SSLCertVerificationError(1, '[SSL: CERTIFICATE_VERIFY_FAILED] certificate verify failed: self signed certificate in certificate chain (_ssl.c:1002)'))) - skipping\n",
            "Could not fetch URL https://pypi.org/simple/pip/: There was a problem confirming the ssl certificate: HTTPSConnectionPool(host='pypi.org', port=443): Max retries exceeded with url: /simple/pip/ (Caused by SSLError(SSLCertVerificationError(1, '[SSL: CERTIFICATE_VERIFY_FAILED] certificate verify failed: self signed certificate in certificate chain (_ssl.c:1002)'))) - skipping\n",
            "Note: you may need to restart the kernel to use updated packages.\n"
          ]
        },
        {
          "name": "stderr",
          "output_type": "stream",
          "text": [
            "WARNING: Retrying (Retry(total=4, connect=None, read=None, redirect=None, status=None)) after connection broken by 'SSLError(SSLCertVerificationError(1, '[SSL: CERTIFICATE_VERIFY_FAILED] certificate verify failed: self signed certificate in certificate chain (_ssl.c:1002)'))': /simple/streamlit/\n",
            "WARNING: Retrying (Retry(total=3, connect=None, read=None, redirect=None, status=None)) after connection broken by 'SSLError(SSLCertVerificationError(1, '[SSL: CERTIFICATE_VERIFY_FAILED] certificate verify failed: self signed certificate in certificate chain (_ssl.c:1002)'))': /simple/streamlit/\n",
            "WARNING: Retrying (Retry(total=2, connect=None, read=None, redirect=None, status=None)) after connection broken by 'SSLError(SSLCertVerificationError(1, '[SSL: CERTIFICATE_VERIFY_FAILED] certificate verify failed: self signed certificate in certificate chain (_ssl.c:1002)'))': /simple/streamlit/\n",
            "WARNING: Retrying (Retry(total=1, connect=None, read=None, redirect=None, status=None)) after connection broken by 'SSLError(SSLCertVerificationError(1, '[SSL: CERTIFICATE_VERIFY_FAILED] certificate verify failed: self signed certificate in certificate chain (_ssl.c:1002)'))': /simple/streamlit/\n",
            "WARNING: Retrying (Retry(total=0, connect=None, read=None, redirect=None, status=None)) after connection broken by 'SSLError(SSLCertVerificationError(1, '[SSL: CERTIFICATE_VERIFY_FAILED] certificate verify failed: self signed certificate in certificate chain (_ssl.c:1002)'))': /simple/streamlit/\n",
            "ERROR: Could not find a version that satisfies the requirement streamlit (from versions: none)\n",
            "ERROR: No matching distribution found for streamlit\n"
          ]
        }
      ],
      "source": [
        "pip install streamlit"
      ]
    },
    {
      "cell_type": "code",
      "execution_count": null,
      "metadata": {
        "id": "4a1dLBsROLH5"
      },
      "outputs": [],
      "source": []
    }
  ],
  "metadata": {
    "accelerator": "TPU",
    "colab": {
      "gpuType": "V28",
      "provenance": []
    },
    "kernelspec": {
      "display_name": "Python 3 (ipykernel)",
      "language": "python",
      "name": "python3"
    },
    "language_info": {
      "codemirror_mode": {
        "name": "ipython",
        "version": 3
      },
      "file_extension": ".py",
      "mimetype": "text/x-python",
      "name": "python",
      "nbconvert_exporter": "python",
      "pygments_lexer": "ipython3",
      "version": "3.11.4"
    }
  },
  "nbformat": 4,
  "nbformat_minor": 0
}